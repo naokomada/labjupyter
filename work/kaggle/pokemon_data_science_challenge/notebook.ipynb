{
 "cells": [
  {
   "cell_type": "markdown",
   "metadata": {},
   "source": [
    "https://www.kaggle.com/rautaki0127/pokemon-data-science-challenge/notebook\n",
    "\n",
    "ポケモンの勝敗予測の問題をやってみる。"
   ]
  },
  {
   "cell_type": "markdown",
   "metadata": {},
   "source": [
    "提供されるCSV\n",
    "\n",
    "- pokemon.csv\n",
    " - ポケモンの属性表\n",
    "- combats.csv\n",
    " - 過去のポケモンの勝敗\n",
    "- tests.csv\n",
    " - 勝敗予測するポケモンの組み合わせ"
   ]
  },
  {
   "cell_type": "code",
   "execution_count": 16,
   "metadata": {},
   "outputs": [
    {
     "data": {
      "text/html": [
       "<div>\n",
       "<table border=\"1\" class=\"dataframe\">\n",
       "  <thead>\n",
       "    <tr style=\"text-align: right;\">\n",
       "      <th></th>\n",
       "      <th>First_pokemon</th>\n",
       "      <th>Second_pokemon</th>\n",
       "      <th>Winner</th>\n",
       "    </tr>\n",
       "  </thead>\n",
       "  <tbody>\n",
       "    <tr>\n",
       "      <th>0</th>\n",
       "      <td>266</td>\n",
       "      <td>298</td>\n",
       "      <td>298</td>\n",
       "    </tr>\n",
       "    <tr>\n",
       "      <th>1</th>\n",
       "      <td>702</td>\n",
       "      <td>701</td>\n",
       "      <td>701</td>\n",
       "    </tr>\n",
       "    <tr>\n",
       "      <th>2</th>\n",
       "      <td>191</td>\n",
       "      <td>668</td>\n",
       "      <td>668</td>\n",
       "    </tr>\n",
       "  </tbody>\n",
       "</table>\n",
       "</div>"
      ],
      "text/plain": [
       "   First_pokemon  Second_pokemon  Winner\n",
       "0            266             298     298\n",
       "1            702             701     701\n",
       "2            191             668     668"
      ]
     },
     "execution_count": 16,
     "metadata": {},
     "output_type": "execute_result"
    }
   ],
   "source": [
    "import pandas as pd\n",
    "combats = pd.read_csv('./input/combats.csv')\n",
    "combats.head(3)"
   ]
  },
  {
   "cell_type": "code",
   "execution_count": 17,
   "metadata": {},
   "outputs": [
    {
     "data": {
      "text/html": [
       "<div>\n",
       "<table border=\"1\" class=\"dataframe\">\n",
       "  <thead>\n",
       "    <tr style=\"text-align: right;\">\n",
       "      <th></th>\n",
       "      <th>#</th>\n",
       "      <th>Name</th>\n",
       "      <th>Type 1</th>\n",
       "      <th>Type 2</th>\n",
       "      <th>HP</th>\n",
       "      <th>Attack</th>\n",
       "      <th>Defense</th>\n",
       "      <th>Sp. Atk</th>\n",
       "      <th>Sp. Def</th>\n",
       "      <th>Speed</th>\n",
       "      <th>Generation</th>\n",
       "      <th>Legendary</th>\n",
       "    </tr>\n",
       "  </thead>\n",
       "  <tbody>\n",
       "    <tr>\n",
       "      <th>265</th>\n",
       "      <td>266</td>\n",
       "      <td>Larvitar</td>\n",
       "      <td>Rock</td>\n",
       "      <td>Ground</td>\n",
       "      <td>50</td>\n",
       "      <td>64</td>\n",
       "      <td>50</td>\n",
       "      <td>45</td>\n",
       "      <td>50</td>\n",
       "      <td>41</td>\n",
       "      <td>2</td>\n",
       "      <td>False</td>\n",
       "    </tr>\n",
       "    <tr>\n",
       "      <th>297</th>\n",
       "      <td>298</td>\n",
       "      <td>Nuzleaf</td>\n",
       "      <td>Grass</td>\n",
       "      <td>Dark</td>\n",
       "      <td>70</td>\n",
       "      <td>70</td>\n",
       "      <td>40</td>\n",
       "      <td>60</td>\n",
       "      <td>40</td>\n",
       "      <td>60</td>\n",
       "      <td>3</td>\n",
       "      <td>False</td>\n",
       "    </tr>\n",
       "  </tbody>\n",
       "</table>\n",
       "</div>"
      ],
      "text/plain": [
       "       #      Name Type 1  Type 2  HP  Attack  Defense  Sp. Atk  Sp. Def  \\\n",
       "265  266  Larvitar   Rock  Ground  50      64       50       45       50   \n",
       "297  298   Nuzleaf  Grass    Dark  70      70       40       60       40   \n",
       "\n",
       "     Speed  Generation Legendary  \n",
       "265     41           2     False  \n",
       "297     60           3     False  "
      ]
     },
     "execution_count": 17,
     "metadata": {},
     "output_type": "execute_result"
    }
   ],
   "source": [
    "pokemon = pd.read_csv('./input/pokemon.csv')\n",
    "pokemon_266_298 = pokemon[pokemon['#'].isin([266, 298])]\n",
    "pokemon_266_298"
   ]
  },
  {
   "cell_type": "code",
   "execution_count": 19,
   "metadata": {},
   "outputs": [
    {
     "data": {
      "text/html": [
       "<div>\n",
       "<table border=\"1\" class=\"dataframe\">\n",
       "  <thead>\n",
       "    <tr style=\"text-align: right;\">\n",
       "      <th></th>\n",
       "      <th>First_pokemon</th>\n",
       "      <th>Second_pokemon</th>\n",
       "    </tr>\n",
       "  </thead>\n",
       "  <tbody>\n",
       "    <tr>\n",
       "      <th>0</th>\n",
       "      <td>129</td>\n",
       "      <td>117</td>\n",
       "    </tr>\n",
       "    <tr>\n",
       "      <th>1</th>\n",
       "      <td>660</td>\n",
       "      <td>211</td>\n",
       "    </tr>\n",
       "    <tr>\n",
       "      <th>2</th>\n",
       "      <td>706</td>\n",
       "      <td>115</td>\n",
       "    </tr>\n",
       "  </tbody>\n",
       "</table>\n",
       "</div>"
      ],
      "text/plain": [
       "   First_pokemon  Second_pokemon\n",
       "0            129             117\n",
       "1            660             211\n",
       "2            706             115"
      ]
     },
     "execution_count": 19,
     "metadata": {},
     "output_type": "execute_result"
    }
   ],
   "source": [
    "import pandas as pd\n",
    "tests = pd.read_csv('./input/tests.csv')\n",
    "tests.head(3)"
   ]
  },
  {
   "cell_type": "code",
   "execution_count": 20,
   "metadata": {},
   "outputs": [
    {
     "data": {
      "text/html": [
       "<div>\n",
       "<table border=\"1\" class=\"dataframe\">\n",
       "  <thead>\n",
       "    <tr style=\"text-align: right;\">\n",
       "      <th></th>\n",
       "      <th>First_pokemon</th>\n",
       "      <th>Second_pokemon</th>\n",
       "      <th>Winner</th>\n",
       "    </tr>\n",
       "  </thead>\n",
       "  <tbody>\n",
       "    <tr>\n",
       "      <th>0</th>\n",
       "      <td>Larvitar</td>\n",
       "      <td>Nuzleaf</td>\n",
       "      <td>Nuzleaf</td>\n",
       "    </tr>\n",
       "    <tr>\n",
       "      <th>1</th>\n",
       "      <td>Virizion</td>\n",
       "      <td>Terrakion</td>\n",
       "      <td>Terrakion</td>\n",
       "    </tr>\n",
       "    <tr>\n",
       "      <th>2</th>\n",
       "      <td>Togetic</td>\n",
       "      <td>Beheeyem</td>\n",
       "      <td>Beheeyem</td>\n",
       "    </tr>\n",
       "  </tbody>\n",
       "</table>\n",
       "</div>"
      ],
      "text/plain": [
       "  First_pokemon Second_pokemon     Winner\n",
       "0      Larvitar        Nuzleaf    Nuzleaf\n",
       "1      Virizion      Terrakion  Terrakion\n",
       "2       Togetic       Beheeyem   Beheeyem"
      ]
     },
     "execution_count": 20,
     "metadata": {},
     "output_type": "execute_result"
    }
   ],
   "source": [
    "names_dict = dict(zip(pokemon['#'], pokemon['Name']))\n",
    "cols = [\"First_pokemon\",\"Second_pokemon\",\"Winner\"]\n",
    "combats_name = combats[cols].replace(names_dict)\n",
    "combats_name.head(3)"
   ]
  },
  {
   "cell_type": "markdown",
   "metadata": {},
   "source": [
    "最初はざっくりした傾向を見るところから始める。"
   ]
  },
  {
   "cell_type": "markdown",
   "metadata": {},
   "source": [
    "ポケモンの属性値を足し合わせた数値でヒストグラムを作ってみる。\n",
    "- 合計のポケモンの数は８００\n",
    "- 300と500の周辺に分布している"
   ]
  },
  {
   "cell_type": "code",
   "execution_count": 21,
   "metadata": {},
   "outputs": [
    {
     "name": "stdout",
     "output_type": "stream",
     "text": [
      "count    800.00000\n",
      "mean     435.10250\n",
      "std      119.96304\n",
      "min      180.00000\n",
      "25%      330.00000\n",
      "50%      450.00000\n",
      "75%      515.00000\n",
      "max      780.00000\n",
      "Name: stats_sum, dtype: float64\n"
     ]
    },
    {
     "data": {
      "image/png": "[encoded data removed]",
      "text/plain": [
       "<matplotlib.figure.Figure at 0x7f6e39593438>"
      ]
     },
     "metadata": {},
     "output_type": "display_data"
    }
   ],
   "source": [
    "pokemon[\"stats_sum\"] = pokemon[\"HP\"] + pokemon[\"Attack\"] + pokemon[\"Defense\"] + pokemon[\"Sp. Atk\"] + pokemon[\"Sp. Def\"] + pokemon[\"Speed\"]\n",
    "import matplotlib.pyplot as plt\n",
    "import seaborn as sns\n",
    "%matplotlib inline\n",
    "print(pokemon[\"stats_sum\"].describe())\n",
    "sns.distplot(pokemon[\"stats_sum\"])\n",
    "plt.show()"
   ]
  },
  {
   "cell_type": "markdown",
   "metadata": {},
   "source": [
    "勝敗の履歴の分析\n",
    "- 50000バトルの情報がある\n",
    "- ？ここもうちょっとみないとわからない。あるポケモンが勝つ比率？"
   ]
  },
  {
   "cell_type": "code",
   "execution_count": 22,
   "metadata": {},
   "outputs": [
    {
     "name": "stdout",
     "output_type": "stream",
     "text": [
      "count    50000.000000\n",
      "mean       136.551440\n",
      "std        101.221212\n",
      "min          0.000000\n",
      "25%         54.000000\n",
      "50%        118.000000\n",
      "75%        200.000000\n",
      "max        590.000000\n",
      "dtype: float64\n"
     ]
    },
    {
     "data": {
      "image/png": "[encoded data removed]",
      "text/plain": [
       "<matplotlib.figure.Figure at 0x7f6e36a4bba8>"
      ]
     },
     "metadata": {},
     "output_type": "display_data"
    }
   ],
   "source": [
    "stats_sum_dict = dict(zip(pokemon['#'], pokemon['stats_sum']))\n",
    "combats_stats_sum = combats[cols].replace(stats_sum_dict)\n",
    "diff_stats_sum = abs(combats_stats_sum[\"First_pokemon\"]-combats_stats_sum[\"Second_pokemon\"])\n",
    "print(diff_stats_sum.describe())\n",
    "sns.distplot(diff_stats_sum)\n",
    "plt.xlabel(\"diff_stats_sum\")\n",
    "plt.show()"
   ]
  },
  {
   "cell_type": "markdown",
   "metadata": {},
   "source": [
    "ポケモンの勝率は一様ではないので、何らかの因子によって勝ちやすいポケモンがいることになる\n",
    "まず、基本性能がいいポケモンが勝つ可能性を検討する\n",
    "\n",
    "結果としてはより基本性能がいいポケモンがより勝率が高いというもの"
   ]
  },
  {
   "cell_type": "code",
   "execution_count": 23,
   "metadata": {},
   "outputs": [
    {
     "name": "stdout",
     "output_type": "stream",
     "text": [
      "count    50000.000000\n",
      "mean        79.776320\n",
      "std        150.093351\n",
      "min       -562.000000\n",
      "25%        -20.000000\n",
      "50%         80.000000\n",
      "75%        186.000000\n",
      "max        590.000000\n",
      "dtype: float64\n"
     ]
    },
    {
     "data": {
      "image/png": "[encoded data removed]",
      "text/plain": [
       "<matplotlib.figure.Figure at 0x7f6e3694b4e0>"
      ]
     },
     "metadata": {},
     "output_type": "display_data"
    }
   ],
   "source": [
    "combats_stats_sum[\"Loser\"] = combats_stats_sum.apply(lambda x: x[\"First_pokemon\"] if x[\"First_pokemon\"] !=  x[\"Winner\"] else x[\"Second_pokemon\"], axis = 1)\n",
    "diff_win_lose_stats = combats_stats_sum[\"Winner\"] - combats_stats_sum[\"Loser\"]\n",
    "print(diff_win_lose_stats.describe())\n",
    "sns.distplot(diff_win_lose_stats)\n",
    "plt.xlabel(\"diff_win_lose_stats\")\n",
    "plt.show()"
   ]
  },
  {
   "cell_type": "markdown",
   "metadata": {},
   "source": [
    "より基本性能の高いポケモンが勝つという仮説に対して、より基本性能が低いポケモンが勝ったらケースを確認してみる\n",
    "- 5000を超えるケースで、100ポイント以上基本性能が下回るポケモンが勝利している"
   ]
  },
  {
   "cell_type": "code",
   "execution_count": 24,
   "metadata": {},
   "outputs": [
    {
     "name": "stdout",
     "output_type": "stream",
     "text": [
      "Surpassing one's superiors Battle number : 5716\n"
     ]
    },
    {
     "data": {
      "text/html": [
       "<div>\n",
       "<table border=\"1\" class=\"dataframe\">\n",
       "  <thead>\n",
       "    <tr style=\"text-align: right;\">\n",
       "      <th></th>\n",
       "      <th>First_pokemon</th>\n",
       "      <th>Second_pokemon</th>\n",
       "      <th>Winner</th>\n",
       "      <th>diff</th>\n",
       "    </tr>\n",
       "  </thead>\n",
       "  <tbody>\n",
       "    <tr>\n",
       "      <th>5</th>\n",
       "      <td>Joltik</td>\n",
       "      <td>Aegislash Shield Forme</td>\n",
       "      <td>Joltik</td>\n",
       "      <td>-201</td>\n",
       "    </tr>\n",
       "    <tr>\n",
       "      <th>36</th>\n",
       "      <td>Pancham</td>\n",
       "      <td>Whismur</td>\n",
       "      <td>Whismur</td>\n",
       "      <td>-108</td>\n",
       "    </tr>\n",
       "    <tr>\n",
       "      <th>37</th>\n",
       "      <td>Clauncher</td>\n",
       "      <td>Dusclops</td>\n",
       "      <td>Clauncher</td>\n",
       "      <td>-125</td>\n",
       "    </tr>\n",
       "    <tr>\n",
       "      <th>42</th>\n",
       "      <td>Goomy</td>\n",
       "      <td>Bouffalant</td>\n",
       "      <td>Goomy</td>\n",
       "      <td>-190</td>\n",
       "    </tr>\n",
       "    <tr>\n",
       "      <th>51</th>\n",
       "      <td>Mega Rayquaza</td>\n",
       "      <td>Aegislash Shield Forme</td>\n",
       "      <td>Aegislash Shield Forme</td>\n",
       "      <td>-260</td>\n",
       "    </tr>\n",
       "    <tr>\n",
       "      <th>158</th>\n",
       "      <td>Bouffalant</td>\n",
       "      <td>Vullaby</td>\n",
       "      <td>Vullaby</td>\n",
       "      <td>-120</td>\n",
       "    </tr>\n",
       "    <tr>\n",
       "      <th>168</th>\n",
       "      <td>Keldeo Resolute Forme</td>\n",
       "      <td>Arbok</td>\n",
       "      <td>Arbok</td>\n",
       "      <td>-142</td>\n",
       "    </tr>\n",
       "    <tr>\n",
       "      <th>174</th>\n",
       "      <td>Gothorita</td>\n",
       "      <td>Volcanion</td>\n",
       "      <td>Gothorita</td>\n",
       "      <td>-210</td>\n",
       "    </tr>\n",
       "  </tbody>\n",
       "</table>\n",
       "</div>"
      ],
      "text/plain": [
       "             First_pokemon          Second_pokemon                  Winner  \\\n",
       "5                   Joltik  Aegislash Shield Forme                  Joltik   \n",
       "36                 Pancham                 Whismur                 Whismur   \n",
       "37               Clauncher                Dusclops               Clauncher   \n",
       "42                   Goomy              Bouffalant                   Goomy   \n",
       "51           Mega Rayquaza  Aegislash Shield Forme  Aegislash Shield Forme   \n",
       "158             Bouffalant                 Vullaby                 Vullaby   \n",
       "168  Keldeo Resolute Forme                   Arbok                   Arbok   \n",
       "174              Gothorita               Volcanion               Gothorita   \n",
       "\n",
       "     diff  \n",
       "5    -201  \n",
       "36   -108  \n",
       "37   -125  \n",
       "42   -190  \n",
       "51   -260  \n",
       "158  -120  \n",
       "168  -142  \n",
       "174  -210  "
      ]
     },
     "execution_count": 24,
     "metadata": {},
     "output_type": "execute_result"
    }
   ],
   "source": [
    "stats_sum_dict_re = dict(zip(pokemon['stats_sum'], pokemon['#']))\n",
    "combats_stats_sum[\"diff\"] = diff_win_lose_stats\n",
    "surpassing_stats_sum = combats_stats_sum[combats_stats_sum[\"diff\"] < -100]\n",
    "print (\"Surpassing one's superiors Battle number : \" + str(len(surpassing_stats_sum)))\n",
    "surpassing_id = surpassing_stats_sum[cols].replace(stats_sum_dict_re)\n",
    "surpassing_name = surpassing_id[cols].replace(names_dict)\n",
    "surpassing_name.join(combats_stats_sum[\"diff\"]).head(8)"
   ]
  },
  {
   "cell_type": "markdown",
   "metadata": {},
   "source": [
    "特に代表的な、基本性能が下のポケモンが勝つ組み合わせ"
   ]
  },
  {
   "cell_type": "code",
   "execution_count": 25,
   "metadata": {},
   "outputs": [
    {
     "data": {
      "text/html": [
       "<div>\n",
       "<table border=\"1\" class=\"dataframe\">\n",
       "  <thead>\n",
       "    <tr style=\"text-align: right;\">\n",
       "      <th></th>\n",
       "      <th>First_pokemon</th>\n",
       "      <th>Second_pokemon</th>\n",
       "      <th>Winner</th>\n",
       "      <th>diff</th>\n",
       "    </tr>\n",
       "  </thead>\n",
       "  <tbody>\n",
       "    <tr>\n",
       "      <th>5861</th>\n",
       "      <td>Mega Rayquaza</td>\n",
       "      <td>Cleffa</td>\n",
       "      <td>Cleffa</td>\n",
       "      <td>-562</td>\n",
       "    </tr>\n",
       "    <tr>\n",
       "      <th>2480</th>\n",
       "      <td>Mega Rayquaza</td>\n",
       "      <td>Cleffa</td>\n",
       "      <td>Cleffa</td>\n",
       "      <td>-562</td>\n",
       "    </tr>\n",
       "    <tr>\n",
       "      <th>41824</th>\n",
       "      <td>Shedinja</td>\n",
       "      <td>Mega Rayquaza</td>\n",
       "      <td>Shedinja</td>\n",
       "      <td>-544</td>\n",
       "    </tr>\n",
       "    <tr>\n",
       "      <th>3506</th>\n",
       "      <td>Mega Rayquaza</td>\n",
       "      <td>Inkay</td>\n",
       "      <td>Inkay</td>\n",
       "      <td>-492</td>\n",
       "    </tr>\n",
       "  </tbody>\n",
       "</table>\n",
       "</div>"
      ],
      "text/plain": [
       "       First_pokemon Second_pokemon    Winner  diff\n",
       "5861   Mega Rayquaza         Cleffa    Cleffa  -562\n",
       "2480   Mega Rayquaza         Cleffa    Cleffa  -562\n",
       "41824       Shedinja  Mega Rayquaza  Shedinja  -544\n",
       "3506   Mega Rayquaza          Inkay     Inkay  -492"
      ]
     },
     "execution_count": 25,
     "metadata": {},
     "output_type": "execute_result"
    }
   ],
   "source": [
    "surpassing_name.join(combats_stats_sum[\"diff\"]).sort_values(by=\"diff\").head(4)"
   ]
  },
  {
   "cell_type": "markdown",
   "metadata": {},
   "source": [
    "より弱いポケモンが勝つ理由について仮説を立てる\n",
    "- 先攻が勝っているのではないか\n",
    "- ポケモンの属性によって勝っているのではないか\n",
    "\n",
    "※ここでドメインの知識があればたくさん精度の高い仮説が出せるんだろうなって感じがする。\n",
    "いい仮説がたくさん出せればうまくいけば機械学習の工程がほぼ検証作業にできるわけで圧倒的に効率がいい"
   ]
  },
  {
   "cell_type": "markdown",
   "metadata": {},
   "source": [
    "まず先攻の勝率と負け率を比べてみる。\n",
    "結果あまり差はみられない"
   ]
  },
  {
   "cell_type": "code",
   "execution_count": 26,
   "metadata": {},
   "outputs": [
    {
     "data": {
      "image/png": "[encoded data removed]",
      "text/plain": [
       "<matplotlib.figure.Figure at 0x7f6e36809e10>"
      ]
     },
     "metadata": {},
     "output_type": "display_data"
    }
   ],
   "source": [
    "combats_stats_sum[\"First_Win\"] =  combats_stats_sum.apply(lambda x: 1 if x[\"First_pokemon\"] ==  x[\"Winner\"] else 0, axis = 1)\n",
    "surpassing_stats_sum = combats_stats_sum[combats_stats_sum[\"diff\"] < -100]\n",
    "sns.distplot(surpassing_stats_sum[surpassing_stats_sum[\"First_Win\"]==0][\"diff\"], label=\"First_pokemon_win=0\")\n",
    "sns.distplot(surpassing_stats_sum[surpassing_stats_sum[\"First_Win\"]==1][\"diff\"], label=\"First_pokemon_win=1\")\n",
    "plt.legend()\n",
    "plt.show()"
   ]
  }
 ],
 "metadata": {
  "kernelspec": {
   "display_name": "Python 3",
   "language": "python",
   "name": "python3"
  },
  "language_info": {
   "codemirror_mode": {
    "name": "ipython",
    "version": 3
   },
   "file_extension": ".py",
   "mimetype": "text/x-python",
   "name": "python",
   "nbconvert_exporter": "python",
   "pygments_lexer": "ipython3",
   "version": "3.6.3"
  }
 },
 "nbformat": 4,
 "nbformat_minor": 2
}
