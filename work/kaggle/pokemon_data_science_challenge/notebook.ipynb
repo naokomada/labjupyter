{
 "cells": [
  {
   "cell_type": "markdown",
   "metadata": {},
   "source": [
    "https://www.kaggle.com/rautaki0127/pokemon-data-science-challenge/notebook\n",
    "\n",
    "ポケモンの勝敗予測の問題をやってみる。"
   ]
  },
  {
   "cell_type": "markdown",
   "metadata": {},
   "source": [
    "提供されるCSV\n",
    "\n",
    "- pokemon.csv\n",
    " - ポケモンの属性表\n",
    "- combats.csv\n",
    " - 過去のポケモンの勝敗\n",
    "- tests.csv\n",
    " - 勝敗予測するポケモンの組み合わせ"
   ]
  },
  {
   "cell_type": "code",
   "execution_count": 3,
   "metadata": {},
   "outputs": [
    {
     "data": {
      "text/html": [
       "<div>\n",
       "<table border=\"1\" class=\"dataframe\">\n",
       "  <thead>\n",
       "    <tr style=\"text-align: right;\">\n",
       "      <th></th>\n",
       "      <th>First_pokemon</th>\n",
       "      <th>Second_pokemon</th>\n",
       "      <th>Winner</th>\n",
       "    </tr>\n",
       "  </thead>\n",
       "  <tbody>\n",
       "    <tr>\n",
       "      <th>0</th>\n",
       "      <td>266</td>\n",
       "      <td>298</td>\n",
       "      <td>298</td>\n",
       "    </tr>\n",
       "    <tr>\n",
       "      <th>1</th>\n",
       "      <td>702</td>\n",
       "      <td>701</td>\n",
       "      <td>701</td>\n",
       "    </tr>\n",
       "    <tr>\n",
       "      <th>2</th>\n",
       "      <td>191</td>\n",
       "      <td>668</td>\n",
       "      <td>668</td>\n",
       "    </tr>\n",
       "  </tbody>\n",
       "</table>\n",
       "</div>"
      ],
      "text/plain": [
       "   First_pokemon  Second_pokemon  Winner\n",
       "0            266             298     298\n",
       "1            702             701     701\n",
       "2            191             668     668"
      ]
     },
     "execution_count": 3,
     "metadata": {},
     "output_type": "execute_result"
    }
   ],
   "source": [
    "import pandas as pd\n",
    "# 基本的にcsvは最初にpandasのDataframeにしている\n",
    "combats = pd.read_csv('./input/combats.csv')\n",
    "combats.head(3)"
   ]
  },
  {
   "cell_type": "code",
   "execution_count": 4,
   "metadata": {},
   "outputs": [
    {
     "data": {
      "text/html": [
       "<div>\n",
       "<table border=\"1\" class=\"dataframe\">\n",
       "  <thead>\n",
       "    <tr style=\"text-align: right;\">\n",
       "      <th></th>\n",
       "      <th>#</th>\n",
       "      <th>Name</th>\n",
       "      <th>Type 1</th>\n",
       "      <th>Type 2</th>\n",
       "      <th>HP</th>\n",
       "      <th>Attack</th>\n",
       "      <th>Defense</th>\n",
       "      <th>Sp. Atk</th>\n",
       "      <th>Sp. Def</th>\n",
       "      <th>Speed</th>\n",
       "      <th>Generation</th>\n",
       "      <th>Legendary</th>\n",
       "    </tr>\n",
       "  </thead>\n",
       "  <tbody>\n",
       "    <tr>\n",
       "      <th>265</th>\n",
       "      <td>266</td>\n",
       "      <td>Larvitar</td>\n",
       "      <td>Rock</td>\n",
       "      <td>Ground</td>\n",
       "      <td>50</td>\n",
       "      <td>64</td>\n",
       "      <td>50</td>\n",
       "      <td>45</td>\n",
       "      <td>50</td>\n",
       "      <td>41</td>\n",
       "      <td>2</td>\n",
       "      <td>False</td>\n",
       "    </tr>\n",
       "    <tr>\n",
       "      <th>297</th>\n",
       "      <td>298</td>\n",
       "      <td>Nuzleaf</td>\n",
       "      <td>Grass</td>\n",
       "      <td>Dark</td>\n",
       "      <td>70</td>\n",
       "      <td>70</td>\n",
       "      <td>40</td>\n",
       "      <td>60</td>\n",
       "      <td>40</td>\n",
       "      <td>60</td>\n",
       "      <td>3</td>\n",
       "      <td>False</td>\n",
       "    </tr>\n",
       "  </tbody>\n",
       "</table>\n",
       "</div>"
      ],
      "text/plain": [
       "       #      Name Type 1  Type 2  HP  Attack  Defense  Sp. Atk  Sp. Def  \\\n",
       "265  266  Larvitar   Rock  Ground  50      64       50       45       50   \n",
       "297  298   Nuzleaf  Grass    Dark  70      70       40       60       40   \n",
       "\n",
       "     Speed  Generation Legendary  \n",
       "265     41           2     False  \n",
       "297     60           3     False  "
      ]
     },
     "execution_count": 4,
     "metadata": {},
     "output_type": "execute_result"
    }
   ],
   "source": [
    "pokemon = pd.read_csv('./input/pokemon.csv')\n",
    "pokemon_266_298 = pokemon[pokemon['#'].isin([266, 298])]\n",
    "pokemon_266_298"
   ]
  },
  {
   "cell_type": "code",
   "execution_count": 5,
   "metadata": {},
   "outputs": [
    {
     "data": {
      "text/html": [
       "<div>\n",
       "<table border=\"1\" class=\"dataframe\">\n",
       "  <thead>\n",
       "    <tr style=\"text-align: right;\">\n",
       "      <th></th>\n",
       "      <th>First_pokemon</th>\n",
       "      <th>Second_pokemon</th>\n",
       "    </tr>\n",
       "  </thead>\n",
       "  <tbody>\n",
       "    <tr>\n",
       "      <th>0</th>\n",
       "      <td>129</td>\n",
       "      <td>117</td>\n",
       "    </tr>\n",
       "    <tr>\n",
       "      <th>1</th>\n",
       "      <td>660</td>\n",
       "      <td>211</td>\n",
       "    </tr>\n",
       "    <tr>\n",
       "      <th>2</th>\n",
       "      <td>706</td>\n",
       "      <td>115</td>\n",
       "    </tr>\n",
       "  </tbody>\n",
       "</table>\n",
       "</div>"
      ],
      "text/plain": [
       "   First_pokemon  Second_pokemon\n",
       "0            129             117\n",
       "1            660             211\n",
       "2            706             115"
      ]
     },
     "execution_count": 5,
     "metadata": {},
     "output_type": "execute_result"
    }
   ],
   "source": [
    "tests = pd.read_csv('./input/tests.csv')\n",
    "tests.head(3)"
   ]
  },
  {
   "cell_type": "code",
   "execution_count": 6,
   "metadata": {},
   "outputs": [
    {
     "data": {
      "text/plain": [
       "dict"
      ]
     },
     "execution_count": 6,
     "metadata": {},
     "output_type": "execute_result"
    }
   ],
   "source": [
    "a = dict()\n",
    "type(a)"
   ]
  },
  {
   "cell_type": "code",
   "execution_count": 7,
   "metadata": {},
   "outputs": [
    {
     "data": {
      "text/html": [
       "<div>\n",
       "<table border=\"1\" class=\"dataframe\">\n",
       "  <thead>\n",
       "    <tr style=\"text-align: right;\">\n",
       "      <th></th>\n",
       "      <th>First_pokemon</th>\n",
       "      <th>Second_pokemon</th>\n",
       "      <th>Winner</th>\n",
       "    </tr>\n",
       "  </thead>\n",
       "  <tbody>\n",
       "    <tr>\n",
       "      <th>0</th>\n",
       "      <td>Larvitar</td>\n",
       "      <td>Nuzleaf</td>\n",
       "      <td>Nuzleaf</td>\n",
       "    </tr>\n",
       "    <tr>\n",
       "      <th>1</th>\n",
       "      <td>Virizion</td>\n",
       "      <td>Terrakion</td>\n",
       "      <td>Terrakion</td>\n",
       "    </tr>\n",
       "    <tr>\n",
       "      <th>2</th>\n",
       "      <td>Togetic</td>\n",
       "      <td>Beheeyem</td>\n",
       "      <td>Beheeyem</td>\n",
       "    </tr>\n",
       "  </tbody>\n",
       "</table>\n",
       "</div>"
      ],
      "text/plain": [
       "  First_pokemon Second_pokemon     Winner\n",
       "0      Larvitar        Nuzleaf    Nuzleaf\n",
       "1      Virizion      Terrakion  Terrakion\n",
       "2       Togetic       Beheeyem   Beheeyem"
      ]
     },
     "execution_count": 7,
     "metadata": {},
     "output_type": "execute_result"
    }
   ],
   "source": [
    "# zip ２つのリストをとって、両方の要素を持つタプルを作りそのリストを返す\n",
    "# dict タプルのリストを辞書にする\n",
    "# 結果names_dictはポケモンのidをキーにして、ポケモンの名前が取れる\n",
    "names_dict = dict(zip(pokemon['#'], pokemon['Name']))\n",
    "cols = [\"First_pokemon\",\"Second_pokemon\",\"Winner\"]\n",
    "combats_name = combats[cols].replace(names_dict)\n",
    "combats_name.head(3)"
   ]
  },
  {
   "cell_type": "markdown",
   "metadata": {},
   "source": [
    "最初はざっくりした傾向を見るところから始める。"
   ]
  },
  {
   "cell_type": "markdown",
   "metadata": {},
   "source": [
    "ポケモンの属性値を足し合わせた数値でヒストグラムを作ってみる。\n",
    "- 合計のポケモンの数は８００\n",
    "- 300と500の周辺に分布している"
   ]
  },
  {
   "cell_type": "code",
   "execution_count": 8,
   "metadata": {},
   "outputs": [
    {
     "name": "stdout",
     "output_type": "stream",
     "text": [
      "count    800.00000\n",
      "mean     435.10250\n",
      "std      119.96304\n",
      "min      180.00000\n",
      "25%      330.00000\n",
      "50%      450.00000\n",
      "75%      515.00000\n",
      "max      780.00000\n",
      "Name: stats_sum, dtype: float64\n"
     ]
    },
    {
     "data": {
      "image/png": "[encoded data removed]",
      "text/plain": [
       "<matplotlib.figure.Figure at 0x7f611bd39a20>"
      ]
     },
     "metadata": {},
     "output_type": "display_data"
    }
   ],
   "source": [
    "pokemon[\"stats_sum\"] = pokemon[\"HP\"] + pokemon[\"Attack\"] + pokemon[\"Defense\"] + pokemon[\"Sp. Atk\"] + pokemon[\"Sp. Def\"] + pokemon[\"Speed\"]\n",
    "# matoplotlib はグラフ描画のライブラリ\n",
    "# seabornはmatoplotlibのラッパーみたいなもの\n",
    "import matplotlib.pyplot as plt\n",
    "import seaborn as sns\n",
    "%matplotlib inline\n",
    "# pandas.DataFrame.describeでdataframeの概要を出力\n",
    "print(pokemon[\"stats_sum\"].describe())\n",
    "# 値の分布を示すヒストグラム\n",
    "sns.distplot(pokemon[\"stats_sum\"])\n",
    "plt.show()"
   ]
  },
  {
   "cell_type": "markdown",
   "metadata": {},
   "source": [
    "勝敗の履歴の分析\n",
    "- 50000バトルの情報がある\n",
    "- 勝負の時にポケモン同士の性能差がどのくらいあるか"
   ]
  },
  {
   "cell_type": "code",
   "execution_count": 9,
   "metadata": {},
   "outputs": [
    {
     "name": "stdout",
     "output_type": "stream",
     "text": [
      "count    50000.000000\n",
      "mean       136.551440\n",
      "std        101.221212\n",
      "min          0.000000\n",
      "25%         54.000000\n",
      "50%        118.000000\n",
      "75%        200.000000\n",
      "max        590.000000\n",
      "dtype: float64\n"
     ]
    },
    {
     "data": {
      "image/png": "[encoded data removed]",
      "text/plain": [
       "<matplotlib.figure.Figure at 0x7f611b0891d0>"
      ]
     },
     "metadata": {},
     "output_type": "display_data"
    }
   ],
   "source": [
    "# stat_sum_dict ポケモンのIDをキーに、ポケモンの基本性能値を値に持つ辞書\n",
    "stats_sum_dict = dict(zip(pokemon['#'], pokemon['stats_sum']))\n",
    "combats_stats_sum = combats[cols].replace(stats_sum_dict)\n",
    "# abs は絶対値 diff_stats_sumには勝負ごとにポケモンの基本性能差がどのくらいだったかが入る\n",
    "diff_stats_sum = abs(combats_stats_sum[\"First_pokemon\"]-combats_stats_sum[\"Second_pokemon\"])\n",
    "print(diff_stats_sum.describe())\n",
    "sns.distplot(diff_stats_sum)\n",
    "plt.xlabel(\"diff_stats_sum\")\n",
    "plt.show()"
   ]
  },
  {
   "cell_type": "markdown",
   "metadata": {},
   "source": [
    "ポケモンの勝率は一様ではないので、何らかの因子によって勝ちやすいポケモンがいることになる\n",
    "まず、基本性能がいいポケモンが勝つ可能性を検討する\n",
    "\n",
    "結果としては、性能が高いポケモンが勝つ傾向にある"
   ]
  },
  {
   "cell_type": "code",
   "execution_count": 10,
   "metadata": {},
   "outputs": [
    {
     "name": "stdout",
     "output_type": "stream",
     "text": [
      "count    50000.000000\n",
      "mean        79.776320\n",
      "std        150.093351\n",
      "min       -562.000000\n",
      "25%        -20.000000\n",
      "50%         80.000000\n",
      "75%        186.000000\n",
      "max        590.000000\n",
      "dtype: float64\n"
     ]
    },
    {
     "data": {
      "image/png": "[encoded data removed]",
      "text/plain": [
       "<matplotlib.figure.Figure at 0x7f6118782748>"
      ]
     },
     "metadata": {},
     "output_type": "display_data"
    }
   ],
   "source": [
    "# applyでdataframeの各行に関数を適用する\n",
    "combats_stats_sum[\"Loser\"] = combats_stats_sum.apply(lambda x: x[\"First_pokemon\"] if x[\"First_pokemon\"] !=  x[\"Winner\"] else x[\"Second_pokemon\"], axis = 1)\n",
    "# 勝ったポケモンと負けたポケモンの性能差を集計する\n",
    "diff_win_lose_stats = combats_stats_sum[\"Winner\"] - combats_stats_sum[\"Loser\"]\n",
    "print(diff_win_lose_stats.describe())\n",
    "sns.distplot(diff_win_lose_stats)\n",
    "plt.xlabel(\"diff_win_lose_stats\")\n",
    "plt.show()"
   ]
  },
  {
   "cell_type": "markdown",
   "metadata": {},
   "source": [
    "より基本性能の高いポケモンが勝つという仮説に対して、より基本性能が低いポケモンが勝ったらケースを確認してみる\n",
    "- 5000を超えるケースで、100ポイント以上基本性能が下回るポケモンが勝利している"
   ]
  },
  {
   "cell_type": "code",
   "execution_count": 11,
   "metadata": {},
   "outputs": [
    {
     "data": {
      "text/html": [
       "<div>\n",
       "<table border=\"1\" class=\"dataframe\">\n",
       "  <thead>\n",
       "    <tr style=\"text-align: right;\">\n",
       "      <th></th>\n",
       "      <th>First_pokemon</th>\n",
       "      <th>Second_pokemon</th>\n",
       "      <th>Winner</th>\n",
       "      <th>Loser</th>\n",
       "      <th>diff</th>\n",
       "    </tr>\n",
       "  </thead>\n",
       "  <tbody>\n",
       "    <tr>\n",
       "      <th>5</th>\n",
       "      <td>319</td>\n",
       "      <td>520</td>\n",
       "      <td>319</td>\n",
       "      <td>520</td>\n",
       "      <td>-201</td>\n",
       "    </tr>\n",
       "    <tr>\n",
       "      <th>36</th>\n",
       "      <td>348</td>\n",
       "      <td>240</td>\n",
       "      <td>240</td>\n",
       "      <td>348</td>\n",
       "      <td>-108</td>\n",
       "    </tr>\n",
       "    <tr>\n",
       "      <th>37</th>\n",
       "      <td>330</td>\n",
       "      <td>455</td>\n",
       "      <td>330</td>\n",
       "      <td>455</td>\n",
       "      <td>-125</td>\n",
       "    </tr>\n",
       "  </tbody>\n",
       "</table>\n",
       "</div>"
      ],
      "text/plain": [
       "    First_pokemon  Second_pokemon  Winner  Loser  diff\n",
       "5             319             520     319    520  -201\n",
       "36            348             240     240    348  -108\n",
       "37            330             455     330    455  -125"
      ]
     },
     "execution_count": 11,
     "metadata": {},
     "output_type": "execute_result"
    }
   ],
   "source": [
    "# ポケモンの基本性能をキーにしてポケモンのidを引く辞書\n",
    "stats_sum_dict_re = dict(zip(pokemon['stats_sum'], pokemon['#']))\n",
    "# ポケモンの勝敗表に性能差の列をつける\n",
    "combats_stats_sum[\"diff\"] = diff_win_lose_stats\n",
    "# 基本性能が100以上下回るポケモンが勝った例を集める\n",
    "surpassing_stats_sum = combats_stats_sum[combats_stats_sum[\"diff\"] < -100]\n",
    "surpassing_stats_sum.head(3)"
   ]
  },
  {
   "cell_type": "code",
   "execution_count": 12,
   "metadata": {},
   "outputs": [
    {
     "name": "stdout",
     "output_type": "stream",
     "text": [
      "Surpassing one's superiors Battle number : 5716\n"
     ]
    },
    {
     "data": {
      "text/html": [
       "<div>\n",
       "<table border=\"1\" class=\"dataframe\">\n",
       "  <thead>\n",
       "    <tr style=\"text-align: right;\">\n",
       "      <th></th>\n",
       "      <th>First_pokemon</th>\n",
       "      <th>Second_pokemon</th>\n",
       "      <th>Winner</th>\n",
       "      <th>diff</th>\n",
       "    </tr>\n",
       "  </thead>\n",
       "  <tbody>\n",
       "    <tr>\n",
       "      <th>5</th>\n",
       "      <td>Joltik</td>\n",
       "      <td>Aegislash Shield Forme</td>\n",
       "      <td>Joltik</td>\n",
       "      <td>-201</td>\n",
       "    </tr>\n",
       "    <tr>\n",
       "      <th>36</th>\n",
       "      <td>Pancham</td>\n",
       "      <td>Whismur</td>\n",
       "      <td>Whismur</td>\n",
       "      <td>-108</td>\n",
       "    </tr>\n",
       "    <tr>\n",
       "      <th>37</th>\n",
       "      <td>Clauncher</td>\n",
       "      <td>Dusclops</td>\n",
       "      <td>Clauncher</td>\n",
       "      <td>-125</td>\n",
       "    </tr>\n",
       "    <tr>\n",
       "      <th>42</th>\n",
       "      <td>Goomy</td>\n",
       "      <td>Bouffalant</td>\n",
       "      <td>Goomy</td>\n",
       "      <td>-190</td>\n",
       "    </tr>\n",
       "    <tr>\n",
       "      <th>51</th>\n",
       "      <td>Mega Rayquaza</td>\n",
       "      <td>Aegislash Shield Forme</td>\n",
       "      <td>Aegislash Shield Forme</td>\n",
       "      <td>-260</td>\n",
       "    </tr>\n",
       "    <tr>\n",
       "      <th>158</th>\n",
       "      <td>Bouffalant</td>\n",
       "      <td>Vullaby</td>\n",
       "      <td>Vullaby</td>\n",
       "      <td>-120</td>\n",
       "    </tr>\n",
       "    <tr>\n",
       "      <th>168</th>\n",
       "      <td>Keldeo Resolute Forme</td>\n",
       "      <td>Arbok</td>\n",
       "      <td>Arbok</td>\n",
       "      <td>-142</td>\n",
       "    </tr>\n",
       "    <tr>\n",
       "      <th>174</th>\n",
       "      <td>Gothorita</td>\n",
       "      <td>Volcanion</td>\n",
       "      <td>Gothorita</td>\n",
       "      <td>-210</td>\n",
       "    </tr>\n",
       "  </tbody>\n",
       "</table>\n",
       "</div>"
      ],
      "text/plain": [
       "             First_pokemon          Second_pokemon                  Winner  \\\n",
       "5                   Joltik  Aegislash Shield Forme                  Joltik   \n",
       "36                 Pancham                 Whismur                 Whismur   \n",
       "37               Clauncher                Dusclops               Clauncher   \n",
       "42                   Goomy              Bouffalant                   Goomy   \n",
       "51           Mega Rayquaza  Aegislash Shield Forme  Aegislash Shield Forme   \n",
       "158             Bouffalant                 Vullaby                 Vullaby   \n",
       "168  Keldeo Resolute Forme                   Arbok                   Arbok   \n",
       "174              Gothorita               Volcanion               Gothorita   \n",
       "\n",
       "     diff  \n",
       "5    -201  \n",
       "36   -108  \n",
       "37   -125  \n",
       "42   -190  \n",
       "51   -260  \n",
       "158  -120  \n",
       "168  -142  \n",
       "174  -210  "
      ]
     },
     "execution_count": 12,
     "metadata": {},
     "output_type": "execute_result"
    }
   ],
   "source": [
    "print (\"Surpassing one's superiors Battle number : \" + str(len(surpassing_stats_sum)))\n",
    "surpassing_id = surpassing_stats_sum[cols].replace(stats_sum_dict_re)\n",
    "surpassing_name = surpassing_id[cols].replace(names_dict)\n",
    "surpassing_name.join(combats_stats_sum[\"diff\"]).head(8)"
   ]
  },
  {
   "cell_type": "markdown",
   "metadata": {},
   "source": [
    "特に代表的な、基本性能が下のポケモンが勝つ組み合わせ"
   ]
  },
  {
   "cell_type": "code",
   "execution_count": 13,
   "metadata": {},
   "outputs": [
    {
     "data": {
      "text/html": [
       "<div>\n",
       "<table border=\"1\" class=\"dataframe\">\n",
       "  <thead>\n",
       "    <tr style=\"text-align: right;\">\n",
       "      <th></th>\n",
       "      <th>First_pokemon</th>\n",
       "      <th>Second_pokemon</th>\n",
       "      <th>Winner</th>\n",
       "      <th>diff</th>\n",
       "    </tr>\n",
       "  </thead>\n",
       "  <tbody>\n",
       "    <tr>\n",
       "      <th>5861</th>\n",
       "      <td>Mega Rayquaza</td>\n",
       "      <td>Cleffa</td>\n",
       "      <td>Cleffa</td>\n",
       "      <td>-562</td>\n",
       "    </tr>\n",
       "    <tr>\n",
       "      <th>2480</th>\n",
       "      <td>Mega Rayquaza</td>\n",
       "      <td>Cleffa</td>\n",
       "      <td>Cleffa</td>\n",
       "      <td>-562</td>\n",
       "    </tr>\n",
       "    <tr>\n",
       "      <th>41824</th>\n",
       "      <td>Shedinja</td>\n",
       "      <td>Mega Rayquaza</td>\n",
       "      <td>Shedinja</td>\n",
       "      <td>-544</td>\n",
       "    </tr>\n",
       "    <tr>\n",
       "      <th>3506</th>\n",
       "      <td>Mega Rayquaza</td>\n",
       "      <td>Inkay</td>\n",
       "      <td>Inkay</td>\n",
       "      <td>-492</td>\n",
       "    </tr>\n",
       "  </tbody>\n",
       "</table>\n",
       "</div>"
      ],
      "text/plain": [
       "       First_pokemon Second_pokemon    Winner  diff\n",
       "5861   Mega Rayquaza         Cleffa    Cleffa  -562\n",
       "2480   Mega Rayquaza         Cleffa    Cleffa  -562\n",
       "41824       Shedinja  Mega Rayquaza  Shedinja  -544\n",
       "3506   Mega Rayquaza          Inkay     Inkay  -492"
      ]
     },
     "execution_count": 13,
     "metadata": {},
     "output_type": "execute_result"
    }
   ],
   "source": [
    "surpassing_name.join(combats_stats_sum[\"diff\"]).sort_values(by=\"diff\").head(4)"
   ]
  },
  {
   "cell_type": "markdown",
   "metadata": {},
   "source": [
    "より弱いポケモンが勝つ理由について仮説を立てる\n",
    "- 先攻が勝っているのではないか\n",
    "- ポケモンの属性によって勝っているのではないか\n",
    "\n",
    "※ここでドメインの知識があればたくさん精度の高い仮説が出せるんだろうなって感じがする。\n",
    "いい仮説がたくさん出せればうまくいけば機械学習の工程がほぼ検証作業にできるわけで圧倒的に効率がいい"
   ]
  },
  {
   "cell_type": "markdown",
   "metadata": {},
   "source": [
    "まず先攻の勝率と負け率を比べてみる。\n",
    "結果あまり差はみられない"
   ]
  },
  {
   "cell_type": "code",
   "execution_count": 14,
   "metadata": {},
   "outputs": [
    {
     "data": {
      "image/png": "[encoded data removed]",
      "text/plain": [
       "<matplotlib.figure.Figure at 0x7f61185b8668>"
      ]
     },
     "metadata": {},
     "output_type": "display_data"
    }
   ],
   "source": [
    "combats_stats_sum[\"First_Win\"] =  combats_stats_sum.apply(lambda x: 1 if x[\"First_pokemon\"] ==  x[\"Winner\"] else 0, axis = 1)\n",
    "surpassing_stats_sum = combats_stats_sum[combats_stats_sum[\"diff\"] < -100]\n",
    "sns.distplot(surpassing_stats_sum[surpassing_stats_sum[\"First_Win\"]==0][\"diff\"], label=\"First_pokemon_win=0\")\n",
    "sns.distplot(surpassing_stats_sum[surpassing_stats_sum[\"First_Win\"]==1][\"diff\"], label=\"First_pokemon_win=1\")\n",
    "plt.legend()\n",
    "plt.show()"
   ]
  },
  {
   "cell_type": "code",
   "execution_count": 15,
   "metadata": {},
   "outputs": [
    {
     "name": "stdout",
     "output_type": "stream",
     "text": [
      "-First_Win=0-\n",
      "count    26065.000000\n",
      "mean        76.155764\n",
      "std        152.292707\n",
      "min       -562.000000\n",
      "25%        -27.000000\n",
      "50%         79.000000\n",
      "75%        185.000000\n",
      "max        585.000000\n",
      "Name: diff, dtype: float64\n",
      "-First_Win=1-\n",
      "count    23935.000000\n",
      "mean        83.719072\n",
      "std        147.563182\n",
      "min       -544.000000\n",
      "25%        -13.000000\n",
      "50%         82.000000\n",
      "75%        190.000000\n",
      "max        590.000000\n",
      "Name: diff, dtype: float64\n"
     ]
    },
    {
     "data": {
      "image/png": "[encoded data removed]",
      "text/plain": [
       "<matplotlib.figure.Figure at 0x7f61183f8518>"
      ]
     },
     "metadata": {},
     "output_type": "display_data"
    }
   ],
   "source": [
    "sns.distplot(combats_stats_sum[combats_stats_sum[\"First_Win\"]==0][\"diff\"], label=\"First_Win=0\")\n",
    "sns.distplot(combats_stats_sum[combats_stats_sum[\"First_Win\"]==1][\"diff\"], label=\"First_Win=1\")\n",
    "print (\"-First_Win=0-\")\n",
    "print (combats_stats_sum[combats_stats_sum[\"First_Win\"]==0][\"diff\"].describe())\n",
    "print (\"-First_Win=1-\")\n",
    "print (combats_stats_sum[combats_stats_sum[\"First_Win\"]==1][\"diff\"].describe())\n",
    "plt.legend()\n",
    "plt.show()"
   ]
  },
  {
   "cell_type": "markdown",
   "metadata": {},
   "source": [
    "結局差がないので、先攻が有利という仮説は誤りに見える。\n",
    "次にポケモンの属性を確認する。"
   ]
  },
  {
   "cell_type": "code",
   "execution_count": 16,
   "metadata": {},
   "outputs": [
    {
     "name": "stdout",
     "output_type": "stream",
     "text": [
      "There are 18 Types.\n"
     ]
    },
    {
     "data": {
      "text/plain": [
       "['Grass',\n",
       " 'Fire',\n",
       " 'Water',\n",
       " 'Bug',\n",
       " 'Normal',\n",
       " 'Poison',\n",
       " 'Electric',\n",
       " 'Ground',\n",
       " 'Fairy',\n",
       " 'Fighting',\n",
       " 'Psychic',\n",
       " 'Rock',\n",
       " 'Ghost',\n",
       " 'Ice',\n",
       " 'Dragon',\n",
       " 'Dark',\n",
       " 'Steel',\n",
       " 'Flying']"
      ]
     },
     "execution_count": 16,
     "metadata": {},
     "output_type": "execute_result"
    }
   ],
   "source": [
    "print (\"There are {} Types.\".format(len(pokemon[\"Type 1\"].drop_duplicates())))\n",
    "list(pokemon[\"Type 1\"].drop_duplicates())"
   ]
  },
  {
   "cell_type": "markdown",
   "metadata": {},
   "source": [
    "ポケモンのぞくせいは２つ持てるので、組み合わせを見る"
   ]
  },
  {
   "cell_type": "code",
   "execution_count": 17,
   "metadata": {},
   "outputs": [
    {
     "name": "stdout",
     "output_type": "stream",
     "text": [
      "There are 154 unique type-combinations.\n"
     ]
    }
   ],
   "source": [
    "type_cols = [\"Type 1\", \"Type 2\"]\n",
    "print (\"There are {} unique type-combinations.\".format(len(pokemon[type_cols].drop_duplicates())))"
   ]
  },
  {
   "cell_type": "code",
   "execution_count": 18,
   "metadata": {},
   "outputs": [
    {
     "data": {
      "image/png": "[encoded data removed]",
      "text/plain": [
       "<matplotlib.figure.Figure at 0x7f61183cf198>"
      ]
     },
     "metadata": {},
     "output_type": "display_data"
    }
   ],
   "source": [
    "pokemon[\"Type 2\"] = pokemon[\"Type 2\"].fillna(\"None\")\n",
    "type_cross = pd.crosstab(pokemon[\"Type 1\"], pokemon[\"Type 2\"])\n",
    "type_cross.plot.bar(stacked=True, figsize=(14,4))\n",
    "plt.legend(bbox_to_anchor=(0.01, 0.99), loc='upper left', ncol=5, fontsize=8, title=\"Type 2\")\n",
    "plt.show()"
   ]
  },
  {
   "cell_type": "markdown",
   "metadata": {},
   "source": [
    "ぞくせいの相性の表を作る。\n",
    "攻撃側のぞくせいと攻撃を受ける側のぞくせいによってダメージに乗る係数を入れる"
   ]
  },
  {
   "cell_type": "code",
   "execution_count": 19,
   "metadata": {},
   "outputs": [
    {
     "name": "stdout",
     "output_type": "stream",
     "text": [
      "Row is Diffender, Column is Attacker\n"
     ]
    },
    {
     "data": {
      "text/html": [
       "<div>\n",
       "<table border=\"1\" class=\"dataframe\">\n",
       "  <thead>\n",
       "    <tr style=\"text-align: right;\">\n",
       "      <th></th>\n",
       "      <th>Bug</th>\n",
       "      <th>Dark</th>\n",
       "      <th>Dragon</th>\n",
       "      <th>Electric</th>\n",
       "      <th>Fairy</th>\n",
       "      <th>Fighting</th>\n",
       "      <th>Fire</th>\n",
       "      <th>Flying</th>\n",
       "      <th>Ghost</th>\n",
       "      <th>Grass</th>\n",
       "      <th>Ground</th>\n",
       "      <th>Ice</th>\n",
       "      <th>Normal</th>\n",
       "      <th>Poison</th>\n",
       "      <th>Psychic</th>\n",
       "      <th>Rock</th>\n",
       "      <th>Steel</th>\n",
       "      <th>Water</th>\n",
       "    </tr>\n",
       "  </thead>\n",
       "  <tbody>\n",
       "    <tr>\n",
       "      <th>Bug</th>\n",
       "      <td>1.0</td>\n",
       "      <td>1.0</td>\n",
       "      <td>1.0</td>\n",
       "      <td>1.0</td>\n",
       "      <td>1.0</td>\n",
       "      <td>0.5</td>\n",
       "      <td>2.0</td>\n",
       "      <td>2.0</td>\n",
       "      <td>1.0</td>\n",
       "      <td>0.5</td>\n",
       "      <td>0.5</td>\n",
       "      <td>1.0</td>\n",
       "      <td>1.0</td>\n",
       "      <td>1.0</td>\n",
       "      <td>1.0</td>\n",
       "      <td>2.0</td>\n",
       "      <td>1.0</td>\n",
       "      <td>1.0</td>\n",
       "    </tr>\n",
       "    <tr>\n",
       "      <th>Dark</th>\n",
       "      <td>2.0</td>\n",
       "      <td>0.5</td>\n",
       "      <td>1.0</td>\n",
       "      <td>1.0</td>\n",
       "      <td>2.0</td>\n",
       "      <td>2.0</td>\n",
       "      <td>1.0</td>\n",
       "      <td>1.0</td>\n",
       "      <td>0.5</td>\n",
       "      <td>1.0</td>\n",
       "      <td>1.0</td>\n",
       "      <td>1.0</td>\n",
       "      <td>1.0</td>\n",
       "      <td>1.0</td>\n",
       "      <td>0.0</td>\n",
       "      <td>1.0</td>\n",
       "      <td>1.0</td>\n",
       "      <td>1.0</td>\n",
       "    </tr>\n",
       "    <tr>\n",
       "      <th>Dragon</th>\n",
       "      <td>1.0</td>\n",
       "      <td>1.0</td>\n",
       "      <td>2.0</td>\n",
       "      <td>0.5</td>\n",
       "      <td>2.0</td>\n",
       "      <td>1.0</td>\n",
       "      <td>0.5</td>\n",
       "      <td>1.0</td>\n",
       "      <td>1.0</td>\n",
       "      <td>0.5</td>\n",
       "      <td>1.0</td>\n",
       "      <td>2.0</td>\n",
       "      <td>1.0</td>\n",
       "      <td>1.0</td>\n",
       "      <td>1.0</td>\n",
       "      <td>1.0</td>\n",
       "      <td>1.0</td>\n",
       "      <td>0.5</td>\n",
       "    </tr>\n",
       "    <tr>\n",
       "      <th>Electric</th>\n",
       "      <td>1.0</td>\n",
       "      <td>1.0</td>\n",
       "      <td>1.0</td>\n",
       "      <td>0.5</td>\n",
       "      <td>1.0</td>\n",
       "      <td>1.0</td>\n",
       "      <td>1.0</td>\n",
       "      <td>0.5</td>\n",
       "      <td>1.0</td>\n",
       "      <td>1.0</td>\n",
       "      <td>2.0</td>\n",
       "      <td>1.0</td>\n",
       "      <td>1.0</td>\n",
       "      <td>1.0</td>\n",
       "      <td>1.0</td>\n",
       "      <td>1.0</td>\n",
       "      <td>0.5</td>\n",
       "      <td>1.0</td>\n",
       "    </tr>\n",
       "    <tr>\n",
       "      <th>Fairy</th>\n",
       "      <td>0.5</td>\n",
       "      <td>0.5</td>\n",
       "      <td>0.0</td>\n",
       "      <td>1.0</td>\n",
       "      <td>1.0</td>\n",
       "      <td>0.5</td>\n",
       "      <td>1.0</td>\n",
       "      <td>1.0</td>\n",
       "      <td>1.0</td>\n",
       "      <td>1.0</td>\n",
       "      <td>1.0</td>\n",
       "      <td>1.0</td>\n",
       "      <td>1.0</td>\n",
       "      <td>2.0</td>\n",
       "      <td>1.0</td>\n",
       "      <td>1.0</td>\n",
       "      <td>0.5</td>\n",
       "      <td>1.0</td>\n",
       "    </tr>\n",
       "    <tr>\n",
       "      <th>Fighting</th>\n",
       "      <td>0.5</td>\n",
       "      <td>0.5</td>\n",
       "      <td>1.0</td>\n",
       "      <td>1.0</td>\n",
       "      <td>2.0</td>\n",
       "      <td>1.0</td>\n",
       "      <td>1.0</td>\n",
       "      <td>2.0</td>\n",
       "      <td>1.0</td>\n",
       "      <td>1.0</td>\n",
       "      <td>1.0</td>\n",
       "      <td>1.0</td>\n",
       "      <td>1.0</td>\n",
       "      <td>1.0</td>\n",
       "      <td>1.0</td>\n",
       "      <td>0.5</td>\n",
       "      <td>1.0</td>\n",
       "      <td>1.0</td>\n",
       "    </tr>\n",
       "    <tr>\n",
       "      <th>Fire</th>\n",
       "      <td>0.5</td>\n",
       "      <td>1.0</td>\n",
       "      <td>1.0</td>\n",
       "      <td>1.0</td>\n",
       "      <td>0.5</td>\n",
       "      <td>1.0</td>\n",
       "      <td>0.5</td>\n",
       "      <td>1.0</td>\n",
       "      <td>1.0</td>\n",
       "      <td>0.5</td>\n",
       "      <td>2.0</td>\n",
       "      <td>0.5</td>\n",
       "      <td>1.0</td>\n",
       "      <td>1.0</td>\n",
       "      <td>1.0</td>\n",
       "      <td>2.0</td>\n",
       "      <td>0.5</td>\n",
       "      <td>2.0</td>\n",
       "    </tr>\n",
       "    <tr>\n",
       "      <th>Flying</th>\n",
       "      <td>0.5</td>\n",
       "      <td>1.0</td>\n",
       "      <td>1.0</td>\n",
       "      <td>2.0</td>\n",
       "      <td>1.0</td>\n",
       "      <td>0.5</td>\n",
       "      <td>1.0</td>\n",
       "      <td>1.0</td>\n",
       "      <td>1.0</td>\n",
       "      <td>0.5</td>\n",
       "      <td>0.0</td>\n",
       "      <td>2.0</td>\n",
       "      <td>1.0</td>\n",
       "      <td>1.0</td>\n",
       "      <td>1.0</td>\n",
       "      <td>2.0</td>\n",
       "      <td>1.0</td>\n",
       "      <td>1.0</td>\n",
       "    </tr>\n",
       "    <tr>\n",
       "      <th>Ghost</th>\n",
       "      <td>0.5</td>\n",
       "      <td>2.0</td>\n",
       "      <td>1.0</td>\n",
       "      <td>1.0</td>\n",
       "      <td>1.0</td>\n",
       "      <td>0.0</td>\n",
       "      <td>1.0</td>\n",
       "      <td>1.0</td>\n",
       "      <td>2.0</td>\n",
       "      <td>1.0</td>\n",
       "      <td>1.0</td>\n",
       "      <td>1.0</td>\n",
       "      <td>0.0</td>\n",
       "      <td>0.5</td>\n",
       "      <td>1.0</td>\n",
       "      <td>1.0</td>\n",
       "      <td>1.0</td>\n",
       "      <td>1.0</td>\n",
       "    </tr>\n",
       "    <tr>\n",
       "      <th>Grass</th>\n",
       "      <td>2.0</td>\n",
       "      <td>1.0</td>\n",
       "      <td>1.0</td>\n",
       "      <td>0.5</td>\n",
       "      <td>1.0</td>\n",
       "      <td>1.0</td>\n",
       "      <td>2.0</td>\n",
       "      <td>2.0</td>\n",
       "      <td>1.0</td>\n",
       "      <td>0.5</td>\n",
       "      <td>0.5</td>\n",
       "      <td>2.0</td>\n",
       "      <td>1.0</td>\n",
       "      <td>2.0</td>\n",
       "      <td>1.0</td>\n",
       "      <td>1.0</td>\n",
       "      <td>1.0</td>\n",
       "      <td>0.5</td>\n",
       "    </tr>\n",
       "    <tr>\n",
       "      <th>Ground</th>\n",
       "      <td>1.0</td>\n",
       "      <td>1.0</td>\n",
       "      <td>1.0</td>\n",
       "      <td>0.0</td>\n",
       "      <td>1.0</td>\n",
       "      <td>1.0</td>\n",
       "      <td>1.0</td>\n",
       "      <td>1.0</td>\n",
       "      <td>1.0</td>\n",
       "      <td>2.0</td>\n",
       "      <td>1.0</td>\n",
       "      <td>2.0</td>\n",
       "      <td>1.0</td>\n",
       "      <td>0.5</td>\n",
       "      <td>2.0</td>\n",
       "      <td>0.5</td>\n",
       "      <td>1.0</td>\n",
       "      <td>2.0</td>\n",
       "    </tr>\n",
       "    <tr>\n",
       "      <th>Ice</th>\n",
       "      <td>1.0</td>\n",
       "      <td>1.0</td>\n",
       "      <td>1.0</td>\n",
       "      <td>1.0</td>\n",
       "      <td>1.0</td>\n",
       "      <td>2.0</td>\n",
       "      <td>2.0</td>\n",
       "      <td>1.0</td>\n",
       "      <td>1.0</td>\n",
       "      <td>1.0</td>\n",
       "      <td>1.0</td>\n",
       "      <td>0.5</td>\n",
       "      <td>1.0</td>\n",
       "      <td>1.0</td>\n",
       "      <td>1.0</td>\n",
       "      <td>2.0</td>\n",
       "      <td>2.0</td>\n",
       "      <td>1.0</td>\n",
       "    </tr>\n",
       "    <tr>\n",
       "      <th>Normal</th>\n",
       "      <td>1.0</td>\n",
       "      <td>1.0</td>\n",
       "      <td>1.0</td>\n",
       "      <td>1.0</td>\n",
       "      <td>1.0</td>\n",
       "      <td>2.0</td>\n",
       "      <td>1.0</td>\n",
       "      <td>1.0</td>\n",
       "      <td>0.0</td>\n",
       "      <td>1.0</td>\n",
       "      <td>1.0</td>\n",
       "      <td>1.0</td>\n",
       "      <td>1.0</td>\n",
       "      <td>1.0</td>\n",
       "      <td>1.0</td>\n",
       "      <td>1.0</td>\n",
       "      <td>1.0</td>\n",
       "      <td>1.0</td>\n",
       "    </tr>\n",
       "    <tr>\n",
       "      <th>Poison</th>\n",
       "      <td>0.5</td>\n",
       "      <td>1.0</td>\n",
       "      <td>1.0</td>\n",
       "      <td>1.0</td>\n",
       "      <td>0.5</td>\n",
       "      <td>0.5</td>\n",
       "      <td>1.0</td>\n",
       "      <td>1.0</td>\n",
       "      <td>1.0</td>\n",
       "      <td>0.5</td>\n",
       "      <td>2.0</td>\n",
       "      <td>1.0</td>\n",
       "      <td>1.0</td>\n",
       "      <td>0.5</td>\n",
       "      <td>2.0</td>\n",
       "      <td>1.0</td>\n",
       "      <td>1.0</td>\n",
       "      <td>1.0</td>\n",
       "    </tr>\n",
       "    <tr>\n",
       "      <th>Psychic</th>\n",
       "      <td>2.0</td>\n",
       "      <td>2.0</td>\n",
       "      <td>1.0</td>\n",
       "      <td>1.0</td>\n",
       "      <td>1.0</td>\n",
       "      <td>0.5</td>\n",
       "      <td>1.0</td>\n",
       "      <td>1.0</td>\n",
       "      <td>2.0</td>\n",
       "      <td>1.0</td>\n",
       "      <td>1.0</td>\n",
       "      <td>1.0</td>\n",
       "      <td>1.0</td>\n",
       "      <td>1.0</td>\n",
       "      <td>0.5</td>\n",
       "      <td>1.0</td>\n",
       "      <td>1.0</td>\n",
       "      <td>1.0</td>\n",
       "    </tr>\n",
       "    <tr>\n",
       "      <th>Rock</th>\n",
       "      <td>1.0</td>\n",
       "      <td>1.0</td>\n",
       "      <td>1.0</td>\n",
       "      <td>1.0</td>\n",
       "      <td>1.0</td>\n",
       "      <td>2.0</td>\n",
       "      <td>0.5</td>\n",
       "      <td>0.5</td>\n",
       "      <td>1.0</td>\n",
       "      <td>2.0</td>\n",
       "      <td>2.0</td>\n",
       "      <td>1.0</td>\n",
       "      <td>0.5</td>\n",
       "      <td>0.5</td>\n",
       "      <td>1.0</td>\n",
       "      <td>1.0</td>\n",
       "      <td>2.0</td>\n",
       "      <td>2.0</td>\n",
       "    </tr>\n",
       "    <tr>\n",
       "      <th>Steel</th>\n",
       "      <td>0.5</td>\n",
       "      <td>1.0</td>\n",
       "      <td>0.5</td>\n",
       "      <td>1.0</td>\n",
       "      <td>0.5</td>\n",
       "      <td>2.0</td>\n",
       "      <td>2.0</td>\n",
       "      <td>0.5</td>\n",
       "      <td>1.0</td>\n",
       "      <td>0.5</td>\n",
       "      <td>2.0</td>\n",
       "      <td>0.5</td>\n",
       "      <td>0.5</td>\n",
       "      <td>0.0</td>\n",
       "      <td>0.5</td>\n",
       "      <td>0.5</td>\n",
       "      <td>0.5</td>\n",
       "      <td>1.0</td>\n",
       "    </tr>\n",
       "    <tr>\n",
       "      <th>Water</th>\n",
       "      <td>1.0</td>\n",
       "      <td>1.0</td>\n",
       "      <td>1.0</td>\n",
       "      <td>2.0</td>\n",
       "      <td>1.0</td>\n",
       "      <td>1.0</td>\n",
       "      <td>0.5</td>\n",
       "      <td>1.0</td>\n",
       "      <td>1.0</td>\n",
       "      <td>2.0</td>\n",
       "      <td>1.0</td>\n",
       "      <td>0.5</td>\n",
       "      <td>1.0</td>\n",
       "      <td>1.0</td>\n",
       "      <td>1.0</td>\n",
       "      <td>1.0</td>\n",
       "      <td>0.5</td>\n",
       "      <td>0.5</td>\n",
       "    </tr>\n",
       "  </tbody>\n",
       "</table>\n",
       "</div>"
      ],
      "text/plain": [
       "          Bug  Dark  Dragon  Electric  Fairy  Fighting  Fire  Flying  Ghost  \\\n",
       "Bug       1.0   1.0     1.0       1.0    1.0       0.5   2.0     2.0    1.0   \n",
       "Dark      2.0   0.5     1.0       1.0    2.0       2.0   1.0     1.0    0.5   \n",
       "Dragon    1.0   1.0     2.0       0.5    2.0       1.0   0.5     1.0    1.0   \n",
       "Electric  1.0   1.0     1.0       0.5    1.0       1.0   1.0     0.5    1.0   \n",
       "Fairy     0.5   0.5     0.0       1.0    1.0       0.5   1.0     1.0    1.0   \n",
       "Fighting  0.5   0.5     1.0       1.0    2.0       1.0   1.0     2.0    1.0   \n",
       "Fire      0.5   1.0     1.0       1.0    0.5       1.0   0.5     1.0    1.0   \n",
       "Flying    0.5   1.0     1.0       2.0    1.0       0.5   1.0     1.0    1.0   \n",
       "Ghost     0.5   2.0     1.0       1.0    1.0       0.0   1.0     1.0    2.0   \n",
       "Grass     2.0   1.0     1.0       0.5    1.0       1.0   2.0     2.0    1.0   \n",
       "Ground    1.0   1.0     1.0       0.0    1.0       1.0   1.0     1.0    1.0   \n",
       "Ice       1.0   1.0     1.0       1.0    1.0       2.0   2.0     1.0    1.0   \n",
       "Normal    1.0   1.0     1.0       1.0    1.0       2.0   1.0     1.0    0.0   \n",
       "Poison    0.5   1.0     1.0       1.0    0.5       0.5   1.0     1.0    1.0   \n",
       "Psychic   2.0   2.0     1.0       1.0    1.0       0.5   1.0     1.0    2.0   \n",
       "Rock      1.0   1.0     1.0       1.0    1.0       2.0   0.5     0.5    1.0   \n",
       "Steel     0.5   1.0     0.5       1.0    0.5       2.0   2.0     0.5    1.0   \n",
       "Water     1.0   1.0     1.0       2.0    1.0       1.0   0.5     1.0    1.0   \n",
       "\n",
       "          Grass  Ground  Ice  Normal  Poison  Psychic  Rock  Steel  Water  \n",
       "Bug         0.5     0.5  1.0     1.0     1.0      1.0   2.0    1.0    1.0  \n",
       "Dark        1.0     1.0  1.0     1.0     1.0      0.0   1.0    1.0    1.0  \n",
       "Dragon      0.5     1.0  2.0     1.0     1.0      1.0   1.0    1.0    0.5  \n",
       "Electric    1.0     2.0  1.0     1.0     1.0      1.0   1.0    0.5    1.0  \n",
       "Fairy       1.0     1.0  1.0     1.0     2.0      1.0   1.0    0.5    1.0  \n",
       "Fighting    1.0     1.0  1.0     1.0     1.0      1.0   0.5    1.0    1.0  \n",
       "Fire        0.5     2.0  0.5     1.0     1.0      1.0   2.0    0.5    2.0  \n",
       "Flying      0.5     0.0  2.0     1.0     1.0      1.0   2.0    1.0    1.0  \n",
       "Ghost       1.0     1.0  1.0     0.0     0.5      1.0   1.0    1.0    1.0  \n",
       "Grass       0.5     0.5  2.0     1.0     2.0      1.0   1.0    1.0    0.5  \n",
       "Ground      2.0     1.0  2.0     1.0     0.5      2.0   0.5    1.0    2.0  \n",
       "Ice         1.0     1.0  0.5     1.0     1.0      1.0   2.0    2.0    1.0  \n",
       "Normal      1.0     1.0  1.0     1.0     1.0      1.0   1.0    1.0    1.0  \n",
       "Poison      0.5     2.0  1.0     1.0     0.5      2.0   1.0    1.0    1.0  \n",
       "Psychic     1.0     1.0  1.0     1.0     1.0      0.5   1.0    1.0    1.0  \n",
       "Rock        2.0     2.0  1.0     0.5     0.5      1.0   1.0    2.0    2.0  \n",
       "Steel       0.5     2.0  0.5     0.5     0.0      0.5   0.5    0.5    1.0  \n",
       "Water       2.0     1.0  0.5     1.0     1.0      1.0   1.0    0.5    0.5  "
      ]
     },
     "execution_count": 19,
     "metadata": {},
     "output_type": "execute_result"
    }
   ],
   "source": [
    "Normal = {\"Normal\": 1, \"Fighting\": 1, \"Poison\": 1, \"Ground\": 1, \"Flying\": 1, \"Bug\": 1, \"Rock\": 0.5, \"Ghost\": 0, \"Steel\": 0.5, \"Fire\": 1, \"Water\": 1, \"Electric\": 1, \"Grass\": 1, \"Ice\": 1, \"Psychic\": 1, \"Dragon\": 1, \"Dark\": 1, \"Fairy\": 1}\n",
    "Fighting = {\"Normal\": 2, \"Fighting\": 1, \"Poison\": 0.5, \"Ground\": 1, \"Flying\": 0.5, \"Bug\": 0.5, \"Rock\": 2, \"Ghost\": 0, \"Steel\": 2, \"Fire\": 1, \"Water\": 1, \"Electric\": 1, \"Grass\": 1, \"Ice\": 2, \"Psychic\": 0.5, \"Dragon\": 1, \"Dark\": 2, \"Fairy\": 0.5}\n",
    "Poison = {\"Normal\": 1, \"Fighting\": 1, \"Poison\": 0.5, \"Ground\": 0.5, \"Flying\": 1, \"Bug\": 1, \"Rock\": 0.5, \"Ghost\": 0.5, \"Steel\": 0, \"Fire\": 1, \"Water\": 1, \"Electric\": 1, \"Grass\": 2, \"Ice\": 1, \"Psychic\": 1, \"Dragon\": 1, \"Dark\": 1, \"Fairy\": 2}\n",
    "Ground = {\"Normal\": 1, \"Fighting\": 1, \"Poison\": 2, \"Ground\": 1, \"Flying\": 0, \"Bug\": 0.5, \"Rock\": 2, \"Ghost\": 1, \"Steel\": 2, \"Fire\": 2, \"Water\": 1, \"Electric\": 2, \"Grass\": 0.5, \"Ice\": 1, \"Psychic\": 1, \"Dragon\": 1, \"Dark\": 1, \"Fairy\": 1}\n",
    "Flying = {\"Normal\": 1, \"Fighting\": 2, \"Poison\": 1, \"Ground\": 1, \"Flying\": 1, \"Bug\": 2, \"Rock\": 0.5, \"Ghost\": 1, \"Steel\": 0.5, \"Fire\": 1, \"Water\": 1, \"Electric\": 0.5, \"Grass\": 2, \"Ice\": 1, \"Psychic\": 1, \"Dragon\": 1, \"Dark\": 1, \"Fairy\": 1}\n",
    "Bug = {\"Normal\": 1, \"Fighting\": 0.5, \"Poison\": 0.5, \"Ground\": 1, \"Flying\": 0.5, \"Bug\": 1, \"Rock\": 1, \"Ghost\": 0.5, \"Steel\": 0.5, \"Fire\": 0.5, \"Water\": 1, \"Electric\": 1, \"Grass\": 2, \"Ice\": 1, \"Psychic\": 2, \"Dragon\": 1, \"Dark\": 2, \"Fairy\": 0.5}\n",
    "Rock = {\"Normal\": 1, \"Fighting\": 0.5, \"Poison\": 1, \"Ground\": 0.5, \"Flying\": 2, \"Bug\": 2, \"Rock\": 1, \"Ghost\": 1, \"Steel\": 0.5, \"Fire\": 2, \"Water\": 1, \"Electric\": 1, \"Grass\": 1, \"Ice\": 2, \"Psychic\": 1, \"Dragon\": 1, \"Dark\": 1, \"Fairy\": 1}\n",
    "Ghost = {\"Normal\": 0, \"Fighting\": 1, \"Poison\": 1, \"Ground\": 1, \"Flying\": 1, \"Bug\": 1, \"Rock\": 1, \"Ghost\": 2, \"Steel\": 1, \"Fire\": 1, \"Water\": 1, \"Electric\": 1, \"Grass\": 1, \"Ice\": 1, \"Psychic\": 2, \"Dragon\": 1, \"Dark\": 0.5, \"Fairy\": 1}\n",
    "Steel = {\"Normal\": 1, \"Fighting\": 1, \"Poison\": 1, \"Ground\": 1, \"Flying\": 1, \"Bug\": 1, \"Rock\": 2, \"Ghost\": 1, \"Steel\": 0.5, \"Fire\": 0.5, \"Water\": 0.5, \"Electric\": 0.5, \"Grass\": 1, \"Ice\": 2, \"Psychic\": 1, \"Dragon\": 1, \"Dark\": 1, \"Fairy\": 0.5}\n",
    "Fire = {\"Normal\": 1, \"Fighting\": 1, \"Poison\": 1, \"Ground\": 1, \"Flying\": 1, \"Bug\": 2, \"Rock\": 0.5, \"Ghost\": 1, \"Steel\": 2, \"Fire\": 0.5, \"Water\": 0.5, \"Electric\": 1, \"Grass\": 2, \"Ice\": 2, \"Psychic\": 1, \"Dragon\": 0.5, \"Dark\": 1, \"Fairy\": 1}\n",
    "Water = {\"Normal\": 1, \"Fighting\": 1, \"Poison\": 1, \"Ground\": 2, \"Flying\": 1, \"Bug\": 1, \"Rock\": 2, \"Ghost\": 1, \"Steel\": 1, \"Fire\": 2, \"Water\": 0.5, \"Electric\": 1, \"Grass\": 0.5, \"Ice\": 1, \"Psychic\": 1, \"Dragon\": 0.5, \"Dark\": 1, \"Fairy\": 1}\n",
    "Electric = {\"Normal\": 1, \"Fighting\": 1, \"Poison\": 1, \"Ground\": 0, \"Flying\": 2, \"Bug\": 1, \"Rock\": 1, \"Ghost\": 1, \"Steel\": 1, \"Fire\": 1, \"Water\": 2, \"Electric\": 0.5, \"Grass\": 0.5, \"Ice\": 1, \"Psychic\": 1, \"Dragon\": 0.5, \"Dark\": 1, \"Fairy\": 1}\n",
    "Grass = {\"Normal\": 1, \"Fighting\": 1, \"Poison\": 0.5, \"Ground\": 2, \"Flying\": 0.5, \"Bug\": 0.5, \"Rock\": 2, \"Ghost\": 1, \"Steel\": 0.5, \"Fire\": 0.5, \"Water\": 2, \"Electric\": 1, \"Grass\": 0.5, \"Ice\": 1, \"Psychic\": 1, \"Dragon\": 0.5, \"Dark\": 1, \"Fairy\": 1}\n",
    "Ice = {\"Normal\": 1, \"Fighting\": 1, \"Poison\": 1, \"Ground\": 2, \"Flying\": 2, \"Bug\": 1, \"Rock\": 1, \"Ghost\": 1, \"Steel\": 0.5, \"Fire\": 0.5, \"Water\": 0.5, \"Electric\": 1, \"Grass\": 2, \"Ice\": 0.5, \"Psychic\": 1, \"Dragon\": 2, \"Dark\": 1, \"Fairy\": 1}\n",
    "Psychic = {\"Normal\": 1, \"Fighting\": 1, \"Poison\": 2, \"Ground\": 2, \"Flying\": 1, \"Bug\": 1, \"Rock\": 1, \"Ghost\": 1, \"Steel\": 0.5, \"Fire\": 1, \"Water\": 1, \"Electric\": 1, \"Grass\": 1, \"Ice\": 1, \"Psychic\": 0.5, \"Dragon\": 1, \"Dark\": 0, \"Fairy\": 1}\n",
    "Dragon = {\"Normal\": 1, \"Fighting\": 1, \"Poison\": 1, \"Ground\": 1, \"Flying\": 1, \"Bug\": 1, \"Rock\": 1, \"Ghost\": 1, \"Steel\": 0.5, \"Fire\": 1, \"Water\": 1, \"Electric\": 1, \"Grass\": 1, \"Ice\": 1, \"Psychic\": 1, \"Dragon\": 2, \"Dark\": 1, \"Fairy\": 0}\n",
    "Dark = {\"Normal\": 1, \"Fighting\": 0.5, \"Poison\": 1, \"Ground\": 1, \"Flying\": 1, \"Bug\": 1, \"Rock\": 1, \"Ghost\": 2, \"Steel\": 1, \"Fire\": 1, \"Water\": 1, \"Electric\": 1, \"Grass\": 1, \"Ice\": 1, \"Psychic\": 2, \"Dragon\": 1, \"Dark\": 0.5, \"Fairy\": 0.5}\n",
    "Fairy = {\"Normal\": 1, \"Fighting\": 2, \"Poison\": 0.5, \"Ground\": 1, \"Flying\": 1, \"Bug\": 1, \"Rock\": 1, \"Ghost\": 1, \"Steel\": 0.5, \"Fire\": 0.5, \"Water\": 1, \"Electric\": 1, \"Grass\": 1, \"Ice\": 1, \"Psychic\": 1, \"Dragon\": 2, \"Dark\": 2, \"Fairy\": 1}\n",
    "\n",
    "type_relation = {\"Normal\": Normal, \"Fighting\": Fighting, \"Poison\": Poison, \"Ground\": Ground, \"Flying\": Flying, \"Bug\": Bug, \"Rock\": Rock, \"Ghost\": Ghost, \"Steel\": Steel, \"Fire\": Fire, \"Water\": Water, \"Electric\": Electric, \"Grass\": Grass, \"Ice\": Ice, \"Psychic\": Psychic, \"Dragon\": Dragon, \"Dark\": Dark, \"Fairy\": Fairy}\n",
    "df_type_relation = pd.DataFrame(type_relation)\n",
    "print (\"Row is Diffender, Column is Attacker\")\n",
    "df_type_relation"
   ]
  },
  {
   "cell_type": "markdown",
   "metadata": {},
   "source": [
    "ぞくせいごとの勝率のばらつきを見てる？"
   ]
  },
  {
   "cell_type": "code",
   "execution_count": 20,
   "metadata": {},
   "outputs": [
    {
     "name": "stdout",
     "output_type": "stream",
     "text": [
      "count    50000.000000\n",
      "mean         1.146062\n",
      "std          0.869392\n",
      "min          0.031250\n",
      "25%          0.500000\n",
      "50%          1.000000\n",
      "75%          1.000000\n",
      "max         16.000000\n",
      "Name: Relation, dtype: float64\n"
     ]
    },
    {
     "data": {
      "image/png": "[encoded data removed]",
      "text/plain": [
       "<matplotlib.figure.Figure at 0x7f61185ec588>"
      ]
     },
     "metadata": {},
     "output_type": "display_data"
    }
   ],
   "source": [
    "pokemon[\"Type\"] = pokemon.apply(lambda x: x[\"Type 1\"]+\"/\"+x[\"Type 2\"], axis=1)\n",
    "type_dict = dict(zip(pokemon['#'], pokemon['Type']))\n",
    "combats_type = combats[cols].replace(type_dict)\n",
    "combats_type[\"Loser\"] = combats_type.apply(lambda x: x[\"First_pokemon\"] if x[\"First_pokemon\"] !=  x[\"Winner\"] else x[\"Second_pokemon\"], axis = 1)\n",
    "\n",
    "zero_dict = {0: 0.25}\n",
    "df_type_relation = df_type_relation[:].replace(zero_dict)\n",
    "\n",
    "def calcRelation(combats_type):\n",
    "    r0 = 1\n",
    "    win_type1 = combats_type[\"Winner\"].split(\"/\")[0]\n",
    "    win_type2 = combats_type[\"Winner\"].split(\"/\")[1]\n",
    "    lose_type1 = combats_type[\"Loser\"].split(\"/\")[0]\n",
    "    lose_type2 = combats_type[\"Loser\"].split(\"/\")[1]\n",
    "    if win_type2 != \"None\" and lose_type2 != \"None\":\n",
    "        r1 = df_type_relation[win_type1][lose_type1]\n",
    "        r2 = df_type_relation[win_type1][lose_type2]\n",
    "        r3 = df_type_relation[win_type2][lose_type1]\n",
    "        r4 = df_type_relation[win_type2][lose_type2]\n",
    "        r = r0 * r1 * r2 * r3 * r4\n",
    "    elif win_type2 != \"None\" and lose_type2 == \"None\":\n",
    "        r1 = df_type_relation[win_type1][lose_type1]\n",
    "        r3 = df_type_relation[win_type2][lose_type1]\n",
    "        r = r0 * r1 * r3\n",
    "    elif win_type2 == \"None\" and lose_type2 != \"None\":\n",
    "        r1 = df_type_relation[win_type1][lose_type1]\n",
    "        r2 = df_type_relation[win_type1][lose_type2]\n",
    "        r = r0 * r1 * r2\n",
    "    elif win_type2 == \"None\" and lose_type2 == \"None\":\n",
    "        r1 = df_type_relation[win_type1][lose_type1]\n",
    "        r = r0 * r1\n",
    "    return r\n",
    "\n",
    "combats_type[\"Relation\"] = combats_type.apply(lambda x: calcRelation(x), axis = 1)\n",
    "print (combats_type[\"Relation\"].describe())\n",
    "sns.distplot(combats_type[\"Relation\"])\n",
    "plt.show()"
   ]
  },
  {
   "cell_type": "markdown",
   "metadata": {},
   "source": [
    "属性によるダメージ補正の平均は1.1ぐらいなので、これだけで勝ち負けが決まっているわけではない（のか？）"
   ]
  },
  {
   "cell_type": "markdown",
   "metadata": {},
   "source": [
    "勝ちが多いポケモンを探す\n",
    "winnerに出ている数が多いポケモンを図示する"
   ]
  },
  {
   "cell_type": "code",
   "execution_count": 23,
   "metadata": {},
   "outputs": [
    {
     "name": "stdout",
     "output_type": "stream",
     "text": [
      "Mewtwo                152\n",
      "Aerodactyl            136\n",
      "Infernape             136\n",
      "Jirachi               134\n",
      "Slaking               133\n",
      "Deoxys Speed Forme    133\n",
      "Murkrow               130\n",
      "Mega Absol            130\n",
      "Mega Houndoom         128\n",
      "Mega Aerodactyl       127\n",
      "Name: Winner, dtype: int64\n"
     ]
    }
   ],
   "source": [
    "import numpy as np\n",
    "#from wordcloud import WordCloud, ImageColorGenerator\n",
    "#from PIL import Image\n",
    "\n",
    "combats_names = combats[cols].replace(names_dict)\n",
    "print (combats_names[\"Winner\"].value_counts()[:10])\n",
    "winners = list(combats_names[\"Winner\"])\n",
    "winners_str = [str(i) for i in winners]\n",
    "winners_text = (\",\").join(winners_str)"
   ]
  },
  {
   "cell_type": "code",
   "execution_count": 21,
   "metadata": {},
   "outputs": [
    {
     "ename": "ModuleNotFoundError",
     "evalue": "No module named 'wordcloud'",
     "output_type": "error",
     "traceback": [
      "\u001b[0;31m---------------------------------------------------------------------------\u001b[0m",
      "\u001b[0;31mModuleNotFoundError\u001b[0m                       Traceback (most recent call last)",
      "\u001b[0;32m<ipython-input-21-c8e07cd6115f>\u001b[0m in \u001b[0;36m<module>\u001b[0;34m()\u001b[0m\n\u001b[1;32m      1\u001b[0m \u001b[0;32mimport\u001b[0m \u001b[0mnumpy\u001b[0m \u001b[0;32mas\u001b[0m \u001b[0mnp\u001b[0m\u001b[0;34m\u001b[0m\u001b[0m\n\u001b[0;32m----> 2\u001b[0;31m \u001b[0;32mfrom\u001b[0m \u001b[0mwordcloud\u001b[0m \u001b[0;32mimport\u001b[0m \u001b[0mWordCloud\u001b[0m\u001b[0;34m,\u001b[0m \u001b[0mImageColorGenerator\u001b[0m\u001b[0;34m\u001b[0m\u001b[0m\n\u001b[0m\u001b[1;32m      3\u001b[0m \u001b[0;32mfrom\u001b[0m \u001b[0mPIL\u001b[0m \u001b[0;32mimport\u001b[0m \u001b[0mImage\u001b[0m\u001b[0;34m\u001b[0m\u001b[0m\n\u001b[1;32m      4\u001b[0m \u001b[0;34m\u001b[0m\u001b[0m\n\u001b[1;32m      5\u001b[0m \u001b[0mcombats_names\u001b[0m \u001b[0;34m=\u001b[0m \u001b[0mcombats\u001b[0m\u001b[0;34m[\u001b[0m\u001b[0mcols\u001b[0m\u001b[0;34m]\u001b[0m\u001b[0;34m.\u001b[0m\u001b[0mreplace\u001b[0m\u001b[0;34m(\u001b[0m\u001b[0mnames_dict\u001b[0m\u001b[0;34m)\u001b[0m\u001b[0;34m\u001b[0m\u001b[0m\n",
      "\u001b[0;31mModuleNotFoundError\u001b[0m: No module named 'wordcloud'"
     ]
    }
   ],
   "source": [
    "wc = WordCloud(background_color= \"black\", random_state=1, margin=3).generate(winners_text)\n",
    "plt.figure(figsize=(10,10))\n",
    "plt.axis(\"off\")\n",
    "plt.imshow(wc, interpolation='bilinear')\n",
    "plt.show()"
   ]
  },
  {
   "cell_type": "code",
   "execution_count": 24,
   "metadata": {},
   "outputs": [
    {
     "data": {
      "text/html": [
       "<div>\n",
       "<table border=\"1\" class=\"dataframe\">\n",
       "  <thead>\n",
       "    <tr style=\"text-align: right;\">\n",
       "      <th></th>\n",
       "      <th>battle</th>\n",
       "      <th>win</th>\n",
       "      <th>ratio</th>\n",
       "    </tr>\n",
       "  </thead>\n",
       "  <tbody>\n",
       "    <tr>\n",
       "      <th>Mega Aerodactyl</th>\n",
       "      <td>129</td>\n",
       "      <td>127.0</td>\n",
       "      <td>0.984496</td>\n",
       "    </tr>\n",
       "    <tr>\n",
       "      <th>Weavile</th>\n",
       "      <td>119</td>\n",
       "      <td>116.0</td>\n",
       "      <td>0.974790</td>\n",
       "    </tr>\n",
       "    <tr>\n",
       "      <th>Tornadus Therian Forme</th>\n",
       "      <td>125</td>\n",
       "      <td>121.0</td>\n",
       "      <td>0.968000</td>\n",
       "    </tr>\n",
       "    <tr>\n",
       "      <th>Mega Beedrill</th>\n",
       "      <td>119</td>\n",
       "      <td>115.0</td>\n",
       "      <td>0.966387</td>\n",
       "    </tr>\n",
       "    <tr>\n",
       "      <th>Aerodactyl</th>\n",
       "      <td>141</td>\n",
       "      <td>136.0</td>\n",
       "      <td>0.964539</td>\n",
       "    </tr>\n",
       "    <tr>\n",
       "      <th>Mega Lopunny</th>\n",
       "      <td>129</td>\n",
       "      <td>124.0</td>\n",
       "      <td>0.961240</td>\n",
       "    </tr>\n",
       "    <tr>\n",
       "      <th>Greninja</th>\n",
       "      <td>127</td>\n",
       "      <td>122.0</td>\n",
       "      <td>0.960630</td>\n",
       "    </tr>\n",
       "    <tr>\n",
       "      <th>Meloetta Pirouette Forme</th>\n",
       "      <td>123</td>\n",
       "      <td>118.0</td>\n",
       "      <td>0.959350</td>\n",
       "    </tr>\n",
       "    <tr>\n",
       "      <th>Mega Mewtwo Y</th>\n",
       "      <td>125</td>\n",
       "      <td>119.0</td>\n",
       "      <td>0.952000</td>\n",
       "    </tr>\n",
       "    <tr>\n",
       "      <th>Mega Sharpedo</th>\n",
       "      <td>120</td>\n",
       "      <td>114.0</td>\n",
       "      <td>0.950000</td>\n",
       "    </tr>\n",
       "  </tbody>\n",
       "</table>\n",
       "</div>"
      ],
      "text/plain": [
       "                          battle    win     ratio\n",
       "Mega Aerodactyl              129  127.0  0.984496\n",
       "Weavile                      119  116.0  0.974790\n",
       "Tornadus Therian Forme       125  121.0  0.968000\n",
       "Mega Beedrill                119  115.0  0.966387\n",
       "Aerodactyl                   141  136.0  0.964539\n",
       "Mega Lopunny                 129  124.0  0.961240\n",
       "Greninja                     127  122.0  0.960630\n",
       "Meloetta Pirouette Forme     123  118.0  0.959350\n",
       "Mega Mewtwo Y                125  119.0  0.952000\n",
       "Mega Sharpedo                120  114.0  0.950000"
      ]
     },
     "execution_count": 24,
     "metadata": {},
     "output_type": "execute_result"
    }
   ],
   "source": [
    "first_num = combats_names[\"First_pokemon\"].value_counts()\n",
    "second_num = combats_names[\"Second_pokemon\"].value_counts()\n",
    "battle_num = first_num + second_num\n",
    "battle_win = pd.DataFrame({\"battle\": battle_num, \"win\": combats_names[\"Winner\"].value_counts()}, columns=[\"battle\", \"win\"])\n",
    "battle_win[\"ratio\"] = battle_win[\"win\"]/battle_win[\"battle\"]\n",
    "battle_win.sort_values(by=[\"ratio\"], ascending=False).head(10)\n"
   ]
  },
  {
   "cell_type": "markdown",
   "metadata": {},
   "source": [
    "よく勝っているポケモンの上位１０はこれ"
   ]
  },
  {
   "cell_type": "markdown",
   "metadata": {},
   "source": [
    "データクレンジング、予測"
   ]
  },
  {
   "cell_type": "markdown",
   "metadata": {},
   "source": [
    "ポケモンのデータを見ると勝敗表に全ポケモンが載っていないことがわかる\n",
    "（全ポケモン数は８００だった）\n",
    "つまり一度も戦ってないポケモンがいる"
   ]
  },
  {
   "cell_type": "code",
   "execution_count": 25,
   "metadata": {},
   "outputs": [
    {
     "name": "stdout",
     "output_type": "stream",
     "text": [
      "<class 'pandas.core.frame.DataFrame'>\n",
      "Index: 783 entries, Abomasnow to Zygarde Half Forme\n",
      "Data columns (total 3 columns):\n",
      "battle    783 non-null int64\n",
      "win       782 non-null float64\n",
      "ratio     782 non-null float64\n",
      "dtypes: float64(2), int64(1)\n",
      "memory usage: 24.5+ KB\n"
     ]
    }
   ],
   "source": [
    "battle_win.info()"
   ]
  },
  {
   "cell_type": "markdown",
   "metadata": {},
   "source": [
    "あと一度も勝っていないので勝率が出ていないポケモンがいる"
   ]
  },
  {
   "cell_type": "code",
   "execution_count": 26,
   "metadata": {},
   "outputs": [
    {
     "data": {
      "text/html": [
       "<div>\n",
       "<table border=\"1\" class=\"dataframe\">\n",
       "  <thead>\n",
       "    <tr style=\"text-align: right;\">\n",
       "      <th></th>\n",
       "      <th>battle</th>\n",
       "      <th>win</th>\n",
       "      <th>ratio</th>\n",
       "    </tr>\n",
       "  </thead>\n",
       "  <tbody>\n",
       "    <tr>\n",
       "      <th>Shuckle</th>\n",
       "      <td>135</td>\n",
       "      <td>NaN</td>\n",
       "      <td>NaN</td>\n",
       "    </tr>\n",
       "  </tbody>\n",
       "</table>\n",
       "</div>"
      ],
      "text/plain": [
       "         battle  win  ratio\n",
       "Shuckle     135  NaN    NaN"
      ]
     },
     "execution_count": 26,
     "metadata": {},
     "output_type": "execute_result"
    }
   ],
   "source": [
    "battle_win[battle_win[\"win\"].isnull()]"
   ]
  },
  {
   "cell_type": "code",
   "execution_count": 27,
   "metadata": {},
   "outputs": [
    {
     "data": {
      "text/html": [
       "<div>\n",
       "<table border=\"1\" class=\"dataframe\">\n",
       "  <thead>\n",
       "    <tr style=\"text-align: right;\">\n",
       "      <th></th>\n",
       "      <th>battle</th>\n",
       "      <th>win</th>\n",
       "      <th>ratio</th>\n",
       "    </tr>\n",
       "  </thead>\n",
       "  <tbody>\n",
       "    <tr>\n",
       "      <th>Shuckle</th>\n",
       "      <td>135</td>\n",
       "      <td>0.0</td>\n",
       "      <td>0.0</td>\n",
       "    </tr>\n",
       "  </tbody>\n",
       "</table>\n",
       "</div>"
      ],
      "text/plain": [
       "         battle  win  ratio\n",
       "Shuckle     135  0.0    0.0"
      ]
     },
     "execution_count": 27,
     "metadata": {},
     "output_type": "execute_result"
    }
   ],
   "source": [
    "# win,ratio の NaN を 0.0にする（ポケモンのShuckleに対してやる）\n",
    "battle_win.loc[\"Shuckle\", [\"win\", \"ratio\"]] = 0\n",
    "battle_win[battle_win.index==\"Shuckle\"]"
   ]
  },
  {
   "cell_type": "markdown",
   "metadata": {},
   "source": [
    "一度も戦っていないポケモンに対する処理"
   ]
  },
  {
   "cell_type": "code",
   "execution_count": 28,
   "metadata": {},
   "outputs": [
    {
     "data": {
      "text/html": [
       "<div>\n",
       "<table border=\"1\" class=\"dataframe\">\n",
       "  <thead>\n",
       "    <tr style=\"text-align: right;\">\n",
       "      <th></th>\n",
       "      <th>#</th>\n",
       "      <th>Name</th>\n",
       "      <th>Type 1</th>\n",
       "      <th>Type 2</th>\n",
       "      <th>HP</th>\n",
       "      <th>Attack</th>\n",
       "      <th>Defense</th>\n",
       "      <th>Sp. Atk</th>\n",
       "      <th>Sp. Def</th>\n",
       "      <th>Speed</th>\n",
       "      <th>Generation</th>\n",
       "      <th>Legendary</th>\n",
       "      <th>stats_sum</th>\n",
       "      <th>Type</th>\n",
       "      <th>ratio</th>\n",
       "    </tr>\n",
       "  </thead>\n",
       "  <tbody>\n",
       "    <tr>\n",
       "      <th>0</th>\n",
       "      <td>1</td>\n",
       "      <td>Bulbasaur</td>\n",
       "      <td>Grass</td>\n",
       "      <td>Poison</td>\n",
       "      <td>45</td>\n",
       "      <td>49</td>\n",
       "      <td>49</td>\n",
       "      <td>65</td>\n",
       "      <td>65</td>\n",
       "      <td>45</td>\n",
       "      <td>1</td>\n",
       "      <td>False</td>\n",
       "      <td>318</td>\n",
       "      <td>Grass/Poison</td>\n",
       "      <td>0.278195</td>\n",
       "    </tr>\n",
       "    <tr>\n",
       "      <th>1</th>\n",
       "      <td>2</td>\n",
       "      <td>Ivysaur</td>\n",
       "      <td>Grass</td>\n",
       "      <td>Poison</td>\n",
       "      <td>60</td>\n",
       "      <td>62</td>\n",
       "      <td>63</td>\n",
       "      <td>80</td>\n",
       "      <td>80</td>\n",
       "      <td>60</td>\n",
       "      <td>1</td>\n",
       "      <td>False</td>\n",
       "      <td>405</td>\n",
       "      <td>Grass/Poison</td>\n",
       "      <td>0.380165</td>\n",
       "    </tr>\n",
       "    <tr>\n",
       "      <th>2</th>\n",
       "      <td>3</td>\n",
       "      <td>Venusaur</td>\n",
       "      <td>Grass</td>\n",
       "      <td>Poison</td>\n",
       "      <td>80</td>\n",
       "      <td>82</td>\n",
       "      <td>83</td>\n",
       "      <td>100</td>\n",
       "      <td>100</td>\n",
       "      <td>80</td>\n",
       "      <td>1</td>\n",
       "      <td>False</td>\n",
       "      <td>525</td>\n",
       "      <td>Grass/Poison</td>\n",
       "      <td>0.674242</td>\n",
       "    </tr>\n",
       "    <tr>\n",
       "      <th>3</th>\n",
       "      <td>4</td>\n",
       "      <td>Mega Venusaur</td>\n",
       "      <td>Grass</td>\n",
       "      <td>Poison</td>\n",
       "      <td>80</td>\n",
       "      <td>100</td>\n",
       "      <td>123</td>\n",
       "      <td>122</td>\n",
       "      <td>120</td>\n",
       "      <td>80</td>\n",
       "      <td>1</td>\n",
       "      <td>False</td>\n",
       "      <td>625</td>\n",
       "      <td>Grass/Poison</td>\n",
       "      <td>0.560000</td>\n",
       "    </tr>\n",
       "    <tr>\n",
       "      <th>4</th>\n",
       "      <td>5</td>\n",
       "      <td>Charmander</td>\n",
       "      <td>Fire</td>\n",
       "      <td>None</td>\n",
       "      <td>39</td>\n",
       "      <td>52</td>\n",
       "      <td>43</td>\n",
       "      <td>60</td>\n",
       "      <td>50</td>\n",
       "      <td>65</td>\n",
       "      <td>1</td>\n",
       "      <td>False</td>\n",
       "      <td>309</td>\n",
       "      <td>Fire/None</td>\n",
       "      <td>0.491071</td>\n",
       "    </tr>\n",
       "  </tbody>\n",
       "</table>\n",
       "</div>"
      ],
      "text/plain": [
       "   #           Name Type 1  Type 2  HP  Attack  Defense  Sp. Atk  Sp. Def  \\\n",
       "0  1      Bulbasaur  Grass  Poison  45      49       49       65       65   \n",
       "1  2        Ivysaur  Grass  Poison  60      62       63       80       80   \n",
       "2  3       Venusaur  Grass  Poison  80      82       83      100      100   \n",
       "3  4  Mega Venusaur  Grass  Poison  80     100      123      122      120   \n",
       "4  5     Charmander   Fire    None  39      52       43       60       50   \n",
       "\n",
       "   Speed  Generation Legendary  stats_sum          Type     ratio  \n",
       "0     45           1     False        318  Grass/Poison  0.278195  \n",
       "1     60           1     False        405  Grass/Poison  0.380165  \n",
       "2     80           1     False        525  Grass/Poison  0.674242  \n",
       "3     80           1     False        625  Grass/Poison  0.560000  \n",
       "4     65           1     False        309     Fire/None  0.491071  "
      ]
     },
     "execution_count": 28,
     "metadata": {},
     "output_type": "execute_result"
    }
   ],
   "source": [
    "id_dict = dict(zip(pokemon['Name'], pokemon['#']))\n",
    "battle_win[\"Name\"] = battle_win.index\n",
    "battle_win[\"#\"] = battle_win[\"Name\"].replace(id_dict)\n",
    "ratio_dict = dict(zip(battle_win['#'], battle_win['ratio']))\n",
    "pokemon[\"ratio\"] = pokemon[\"#\"].replace(ratio_dict)\n",
    "pokemon.head()"
   ]
  },
  {
   "cell_type": "code",
   "execution_count": 29,
   "metadata": {},
   "outputs": [
    {
     "name": "stdout",
     "output_type": "stream",
     "text": [
      "There are 17 pokemons have NaN ratio.\n"
     ]
    },
    {
     "data": {
      "text/html": [
       "<div>\n",
       "<table border=\"1\" class=\"dataframe\">\n",
       "  <thead>\n",
       "    <tr style=\"text-align: right;\">\n",
       "      <th></th>\n",
       "      <th>#</th>\n",
       "      <th>Name</th>\n",
       "      <th>ratio</th>\n",
       "    </tr>\n",
       "  </thead>\n",
       "  <tbody>\n",
       "    <tr>\n",
       "      <th>11</th>\n",
       "      <td>12</td>\n",
       "      <td>Blastoise</td>\n",
       "      <td>12.0</td>\n",
       "    </tr>\n",
       "    <tr>\n",
       "      <th>32</th>\n",
       "      <td>33</td>\n",
       "      <td>Sandshrew</td>\n",
       "      <td>33.0</td>\n",
       "    </tr>\n",
       "    <tr>\n",
       "      <th>45</th>\n",
       "      <td>46</td>\n",
       "      <td>Wigglytuff</td>\n",
       "      <td>46.0</td>\n",
       "    </tr>\n",
       "    <tr>\n",
       "      <th>62</th>\n",
       "      <td>63</td>\n",
       "      <td>NaN</td>\n",
       "      <td>63.0</td>\n",
       "    </tr>\n",
       "    <tr>\n",
       "      <th>65</th>\n",
       "      <td>66</td>\n",
       "      <td>Poliwag</td>\n",
       "      <td>66.0</td>\n",
       "    </tr>\n",
       "    <tr>\n",
       "      <th>77</th>\n",
       "      <td>78</td>\n",
       "      <td>Victreebel</td>\n",
       "      <td>78.0</td>\n",
       "    </tr>\n",
       "    <tr>\n",
       "      <th>89</th>\n",
       "      <td>90</td>\n",
       "      <td>Magneton</td>\n",
       "      <td>90.0</td>\n",
       "    </tr>\n",
       "    <tr>\n",
       "      <th>143</th>\n",
       "      <td>144</td>\n",
       "      <td>Ditto</td>\n",
       "      <td>144.0</td>\n",
       "    </tr>\n",
       "    <tr>\n",
       "      <th>182</th>\n",
       "      <td>183</td>\n",
       "      <td>Ariados</td>\n",
       "      <td>183.0</td>\n",
       "    </tr>\n",
       "    <tr>\n",
       "      <th>235</th>\n",
       "      <td>236</td>\n",
       "      <td>Ursaring</td>\n",
       "      <td>236.0</td>\n",
       "    </tr>\n",
       "    <tr>\n",
       "      <th>321</th>\n",
       "      <td>322</td>\n",
       "      <td>Hariyama</td>\n",
       "      <td>322.0</td>\n",
       "    </tr>\n",
       "    <tr>\n",
       "      <th>418</th>\n",
       "      <td>419</td>\n",
       "      <td>Mega Latias</td>\n",
       "      <td>419.0</td>\n",
       "    </tr>\n",
       "    <tr>\n",
       "      <th>478</th>\n",
       "      <td>479</td>\n",
       "      <td>Honchkrow</td>\n",
       "      <td>479.0</td>\n",
       "    </tr>\n",
       "    <tr>\n",
       "      <th>555</th>\n",
       "      <td>556</td>\n",
       "      <td>Servine</td>\n",
       "      <td>556.0</td>\n",
       "    </tr>\n",
       "    <tr>\n",
       "      <th>617</th>\n",
       "      <td>618</td>\n",
       "      <td>Maractus</td>\n",
       "      <td>618.0</td>\n",
       "    </tr>\n",
       "    <tr>\n",
       "      <th>654</th>\n",
       "      <td>655</td>\n",
       "      <td>Jellicent</td>\n",
       "      <td>655.0</td>\n",
       "    </tr>\n",
       "    <tr>\n",
       "      <th>781</th>\n",
       "      <td>782</td>\n",
       "      <td>Pumpkaboo Small Size</td>\n",
       "      <td>782.0</td>\n",
       "    </tr>\n",
       "  </tbody>\n",
       "</table>\n",
       "</div>"
      ],
      "text/plain": [
       "       #                  Name  ratio\n",
       "11    12             Blastoise   12.0\n",
       "32    33             Sandshrew   33.0\n",
       "45    46            Wigglytuff   46.0\n",
       "62    63                   NaN   63.0\n",
       "65    66               Poliwag   66.0\n",
       "77    78            Victreebel   78.0\n",
       "89    90              Magneton   90.0\n",
       "143  144                 Ditto  144.0\n",
       "182  183               Ariados  183.0\n",
       "235  236              Ursaring  236.0\n",
       "321  322              Hariyama  322.0\n",
       "418  419           Mega Latias  419.0\n",
       "478  479             Honchkrow  479.0\n",
       "555  556               Servine  556.0\n",
       "617  618              Maractus  618.0\n",
       "654  655             Jellicent  655.0\n",
       "781  782  Pumpkaboo Small Size  782.0"
      ]
     },
     "execution_count": 29,
     "metadata": {},
     "output_type": "execute_result"
    }
   ],
   "source": [
    "nobattle_pokemon = pokemon[pokemon[\"ratio\"]>1]\n",
    "print (\"There are {} pokemons have NaN ratio.\".format(len(nobattle_pokemon.index)))\n",
    "nobattle_pokemon[[\"#\", \"Name\", \"ratio\"]]"
   ]
  }
 ],
 "metadata": {
  "kernelspec": {
   "display_name": "Python 3",
   "language": "python",
   "name": "python3"
  },
  "language_info": {
   "codemirror_mode": {
    "name": "ipython",
    "version": 3
   },
   "file_extension": ".py",
   "mimetype": "text/x-python",
   "name": "python",
   "nbconvert_exporter": "python",
   "pygments_lexer": "ipython3",
   "version": "3.6.3"
  }
 },
 "nbformat": 4,
 "nbformat_minor": 2
}
