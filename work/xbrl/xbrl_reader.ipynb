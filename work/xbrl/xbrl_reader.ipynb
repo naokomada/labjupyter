{
 "cells": [
  {
   "cell_type": "code",
   "execution_count": 2,
   "metadata": {},
   "outputs": [
    {
     "name": "stdout",
     "output_type": "stream",
     "text": [
      "Collecting edinet-xbrl\n",
      "  Downloading https://files.pythonhosted.org/packages/48/d3/1312a5d638ef614e4da1d2d97f85c8c08791152113c305b77709443ad273/edinet_xbrl-0.2.0.tar.gz\n",
      "Collecting python-xbrl (from edinet-xbrl)\n",
      "  Downloading https://files.pythonhosted.org/packages/c5/ba/a775eb59368287827dede54acede3748886a9ae3ba38e591a42936a2030b/python-xbrl-1.1.1.tar.gz\n",
      "Requirement already satisfied: requests in /opt/conda/lib/python3.6/site-packages (from edinet-xbrl)\n",
      "Collecting pytest (from python-xbrl->edinet-xbrl)\n",
      "  Downloading https://files.pythonhosted.org/packages/08/e0/a4945a06380802264b3416d788ad607588c334662b6cd0af54144c45912d/pytest-3.8.2-py2.py3-none-any.whl (209kB)\n",
      "\u001b[K    100% |████████████████████████████████| 215kB 3.4MB/s eta 0:00:01\n",
      "\u001b[?25hCollecting pep8 (from python-xbrl->edinet-xbrl)\n",
      "  Downloading https://files.pythonhosted.org/packages/42/3f/669429ce58de2c22d8d2c542752e137ec4b9885fff398d3eceb1a7f5acb4/pep8-1.7.1-py2.py3-none-any.whl (41kB)\n",
      "\u001b[K    100% |████████████████████████████████| 51kB 8.0MB/s eta 0:00:01\n",
      "\u001b[?25hCollecting marshmallow (from python-xbrl->edinet-xbrl)\n",
      "  Downloading https://files.pythonhosted.org/packages/e0/63/5e998725dacfeb60404366cf55dc7b753b3de29e46e38da8f55199838320/marshmallow-2.16.0-py2.py3-none-any.whl (49kB)\n",
      "\u001b[K    100% |████████████████████████████████| 51kB 8.0MB/s eta 0:00:01\n",
      "\u001b[?25hRequirement already satisfied: beautifulsoup4 in /opt/conda/lib/python3.6/site-packages (from python-xbrl->edinet-xbrl)\n",
      "Collecting ordereddict (from python-xbrl->edinet-xbrl)\n",
      "  Downloading https://files.pythonhosted.org/packages/53/25/ef88e8e45db141faa9598fbf7ad0062df8f50f881a36ed6a0073e1572126/ordereddict-1.1.tar.gz\n",
      "Collecting lxml (from python-xbrl->edinet-xbrl)\n",
      "  Downloading https://files.pythonhosted.org/packages/03/a4/9eea8035fc7c7670e5eab97f34ff2ef0ddd78a491bf96df5accedb0e63f5/lxml-4.2.5-cp36-cp36m-manylinux1_x86_64.whl (5.8MB)\n",
      "\u001b[K    100% |████████████████████████████████| 5.8MB 158kB/s eta 0:00:01\n",
      "\u001b[?25hRequirement already satisfied: six in /opt/conda/lib/python3.6/site-packages (from python-xbrl->edinet-xbrl)\n",
      "Requirement already satisfied: chardet<3.1.0,>=3.0.2 in /opt/conda/lib/python3.6/site-packages (from requests->edinet-xbrl)\n",
      "Requirement already satisfied: idna<2.7,>=2.5 in /opt/conda/lib/python3.6/site-packages (from requests->edinet-xbrl)\n",
      "Requirement already satisfied: urllib3<1.23,>=1.21.1 in /opt/conda/lib/python3.6/site-packages (from requests->edinet-xbrl)\n",
      "Requirement already satisfied: certifi>=2017.4.17 in /opt/conda/lib/python3.6/site-packages (from requests->edinet-xbrl)\n",
      "Collecting atomicwrites>=1.0 (from pytest->python-xbrl->edinet-xbrl)\n",
      "  Downloading https://files.pythonhosted.org/packages/3a/9a/9d878f8d885706e2530402de6417141129a943802c084238914fa6798d97/atomicwrites-1.2.1-py2.py3-none-any.whl\n",
      "Collecting py>=1.5.0 (from pytest->python-xbrl->edinet-xbrl)\n",
      "  Downloading https://files.pythonhosted.org/packages/3e/c7/3da685ef117d42ac8d71af525208759742dd235f8094221fdaafcd3dba8f/py-1.7.0-py2.py3-none-any.whl (83kB)\n",
      "\u001b[K    100% |████████████████████████████████| 92kB 7.6MB/s eta 0:00:01\n",
      "\u001b[?25hRequirement already satisfied: setuptools in /opt/conda/lib/python3.6/site-packages (from pytest->python-xbrl->edinet-xbrl)\n",
      "Collecting more-itertools>=4.0.0 (from pytest->python-xbrl->edinet-xbrl)\n",
      "  Downloading https://files.pythonhosted.org/packages/79/b1/eace304ef66bd7d3d8b2f78cc374b73ca03bc53664d78151e9df3b3996cc/more_itertools-4.3.0-py3-none-any.whl (48kB)\n",
      "\u001b[K    100% |████████████████████████████████| 51kB 7.0MB/s eta 0:00:01\n",
      "\u001b[?25hCollecting attrs>=17.4.0 (from pytest->python-xbrl->edinet-xbrl)\n",
      "  Downloading https://files.pythonhosted.org/packages/3a/e1/5f9023cc983f1a628a8c2fd051ad19e76ff7b142a0faf329336f9a62a514/attrs-18.2.0-py2.py3-none-any.whl\n",
      "Collecting pluggy>=0.7 (from pytest->python-xbrl->edinet-xbrl)\n",
      "  Downloading https://files.pythonhosted.org/packages/f5/f1/5a93c118663896d83f7bcbfb7f657ce1d0c0d617e6b4a443a53abcc658ca/pluggy-0.7.1-py2.py3-none-any.whl\n",
      "Building wheels for collected packages: edinet-xbrl, python-xbrl, ordereddict\n",
      "  Running setup.py bdist_wheel for edinet-xbrl ... \u001b[?25ldone\n",
      "\u001b[?25h  Stored in directory: /home/jovyan/.cache/pip/wheels/3a/62/ae/7d87fcb39ae63fe6dd3f22ec0002a3ebc02953531d5998f3e6\n",
      "  Running setup.py bdist_wheel for python-xbrl ... \u001b[?25ldone\n",
      "\u001b[?25h  Stored in directory: /home/jovyan/.cache/pip/wheels/b2/a1/74/4c777bfc9b209ea0f28328facc688fe57cc9a4dd38a5756412\n",
      "  Running setup.py bdist_wheel for ordereddict ... \u001b[?25ldone\n",
      "\u001b[?25h  Stored in directory: /home/jovyan/.cache/pip/wheels/78/d3/a8/9f52c7a389a0ffba6f575a3886b5f7a55461fb6ec34aa5fd38\n",
      "Successfully built edinet-xbrl python-xbrl ordereddict\n",
      "Installing collected packages: atomicwrites, py, more-itertools, attrs, pluggy, pytest, pep8, marshmallow, ordereddict, lxml, python-xbrl, edinet-xbrl\n",
      "Successfully installed atomicwrites-1.2.1 attrs-18.2.0 edinet-xbrl-0.2.0 lxml-4.2.5 marshmallow-2.16.0 more-itertools-4.3.0 ordereddict-1.1 pep8-1.7.1 pluggy-0.7.1 py-1.7.0 pytest-3.8.2 python-xbrl-1.1.1\n",
      "\u001b[33mYou are using pip version 9.0.1, however version 18.1 is available.\n",
      "You should consider upgrading via the 'pip install --upgrade pip' command.\u001b[0m\n"
     ]
    }
   ],
   "source": [
    "!pip install edinet-xbrl"
   ]
  },
  {
   "cell_type": "code",
   "execution_count": 8,
   "metadata": {},
   "outputs": [],
   "source": [
    "import os\n",
    "from edinet_xbrl.edinet_xbrl_downloader import EdinetXbrlDownloader\n",
    "\n",
    "## init downloader\n",
    "xbrl_downloader = EdinetXbrlDownloader()\n",
    "\n",
    "## set a ticker you want to download xbrl file\n",
    "ticker = \"5101\"\n",
    "target_dir = \"./tickers/\" + ticker\n",
    "os.mkdir(target_dir)\n",
    "\n",
    "xbrl_downloader.download_by_ticker(ticker, target_dir)"
   ]
  },
  {
   "cell_type": "code",
   "execution_count": 22,
   "metadata": {},
   "outputs": [
    {
     "data": {
      "text/plain": [
       "edinet_xbrl.edinet_xbrl_object.EdinetXbrlObject"
      ]
     },
     "execution_count": 22,
     "metadata": {},
     "output_type": "execute_result"
    }
   ],
   "source": [
    "from edinet_xbrl.edinet_xbrl_parser import EdinetXbrlParser\n",
    "\n",
    "## init parser\n",
    "parser = EdinetXbrlParser()\n",
    "\n",
    "## parse xbrl file and get data container\n",
    "edinet_xbrl_object = parser.parse_file(target_dir + \"/\" + \"jpcrp020300-srs-001_E01085-000_2017-12-31_01_2018-04-27.xbrl\")\n",
    "type(edinet_xbrl_object)"
   ]
  },
  {
   "cell_type": "code",
   "execution_count": 21,
   "metadata": {},
   "outputs": [
    {
     "data": {
      "text/plain": [
       "'横浜ゴム株式会社'"
      ]
     },
     "execution_count": 21,
     "metadata": {},
     "output_type": "execute_result"
    }
   ],
   "source": [
    "## 例えば、該当年度の総資産を取ってみる\n",
    "key = \"jpcrp_cor:CompanyNameCoverPage\"\n",
    "context_ref = \"FilingDateInstant\"\n",
    "current_year_assets = edinet_xbrl_object.get_data_by_context_ref(key, context_ref).get_value()\n",
    "current_year_assets"
   ]
  }
 ],
 "metadata": {
  "kernelspec": {
   "display_name": "Python 3",
   "language": "python",
   "name": "python3"
  },
  "language_info": {
   "codemirror_mode": {
    "name": "ipython",
    "version": 3
   },
   "file_extension": ".py",
   "mimetype": "text/x-python",
   "name": "python",
   "nbconvert_exporter": "python",
   "pygments_lexer": "ipython3",
   "version": "3.6.3"
  }
 },
 "nbformat": 4,
 "nbformat_minor": 2
}
