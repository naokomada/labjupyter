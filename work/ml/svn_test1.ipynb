{
 "cells": [
  {
   "cell_type": "code",
   "execution_count": 1,
   "metadata": {
    "collapsed": false
   },
   "outputs": [
    {
     "name": "stdout",
     "output_type": "stream",
     "text": [
      "ok, {'thin': 6506, 'normal': 5972, 'fat': 7522}\n"
     ]
    }
   ],
   "source": [
    "import random\n",
    "\n",
    "# BMIを計算して体型を返す\n",
    "def calc_bmi(h, w):\n",
    "    bmi = w / (h/100) ** 2\n",
    "    if bmi < 18.5: return \"thin\"\n",
    "    if bmi < 25.0: return \"normal\"\n",
    "    return \"fat\"\n",
    "\n",
    "# 出力ファイルの準備\n",
    "fp = open(\"bmi.csv\",\"w\",encoding=\"utf-8\")\n",
    "fp.write(\"height,weight,label\\r\\n\")\n",
    "\n",
    "# ランダムなデータを生成\n",
    "cnt = {\"thin\":0, \"normal\":0, \"fat\":0}\n",
    "for i in range(20000):\n",
    "    h = random.randint(120,200)\n",
    "    w = random.randint(35, 80)\n",
    "    label = calc_bmi(h, w)\n",
    "    cnt[label] += 1\n",
    "    fp.write(\"{0},{1},{2}\\r\\n\".format(h, w, label))\n",
    "fp.close()\n",
    "print(\"ok,\", cnt)\n"
   ]
  },
  {
   "cell_type": "code",
   "execution_count": 2,
   "metadata": {
    "collapsed": true
   },
   "outputs": [
    {
     "name": "stderr",
     "output_type": "stream",
     "text": [
      "/opt/conda/lib/python3.6/site-packages/sklearn/cross_validation.py:41: DeprecationWarning: This module was deprecated in version 0.18 in favor of the model_selection module into which all the refactored classes and functions are moved. Also note that the interface of the new CV iterators are different from that of this module. This module will be removed in 0.20.\n",
      "  \"This module will be removed in 0.20.\", DeprecationWarning)\n"
     ]
    }
   ],
   "source": [
    "from sklearn import cross_validation, svm, metrics\n",
    "import matplotlib.pyplot as plt\n",
    "import pandas as pd\n",
    "\n",
    "# 身長・体重データの読み込み --- (※1)\n",
    "tbl = pd.read_csv(\"bmi.csv\")\n",
    "\n",
    "# カラム(列)をスライスして正規化 --- (※2)\n",
    "label = tbl[\"label\"]\n",
    "w = tbl[\"weight\"] / 100 # 最大100kgと考える\n",
    "h = tbl[\"height\"] / 200 # 最長200cmと考える\n",
    "wh = pd.concat([w, h], axis=1)"
   ]
  },
  {
   "cell_type": "code",
   "execution_count": 3,
   "metadata": {
    "collapsed": false
   },
   "outputs": [
    {
     "name": "stdout",
     "output_type": "stream",
     "text": [
      "tbl\n",
      "   height  weight   label\n",
      "0     174      71  normal\n",
      "1     122      64     fat\n",
      "2     128      58     fat\n",
      "wh\n",
      "   weight  height\n",
      "0    0.71   0.870\n",
      "1    0.64   0.610\n",
      "2    0.58   0.640\n",
      "3    0.62   0.905\n",
      "4    0.37   0.710\n"
     ]
    }
   ],
   "source": [
    "print('tbl')\n",
    "print(tbl.head(3))\n",
    "print('wh')\n",
    "print(wh.head(5))"
   ]
  },
  {
   "cell_type": "code",
   "execution_count": 4,
   "metadata": {
    "collapsed": false
   },
   "outputs": [
    {
     "name": "stdout",
     "output_type": "stream",
     "text": [
      "data_train\n",
      "       weight  height\n",
      "18298    0.78   0.780\n",
      "17393    0.75   0.805\n",
      "2344     0.46   0.935\n",
      "data_test\n",
      "       weight  height\n",
      "12467    0.54   0.895\n",
      "3192     0.80   0.950\n",
      "12071    0.54   0.910\n",
      "label_train\n",
      "18298     fat\n",
      "17393     fat\n",
      "2344     thin\n",
      "Name: label, dtype: object\n",
      "label_test\n",
      "12467      thin\n",
      "3192     normal\n",
      "12071      thin\n",
      "Name: label, dtype: object\n"
     ]
    }
   ],
   "source": [
    "# 学習用とテスト用データに分ける --- (※3)\n",
    "data_train, data_test, label_train, label_test = \\\n",
    "    cross_validation.train_test_split(wh, label)\n",
    "\n",
    "print('data_train')\n",
    "print(data_train.head(3))\n",
    "print('data_test')\n",
    "print(data_test.head(3))\n",
    "print('label_train')\n",
    "print(label_train.head(3))\n",
    "print('label_test')\n",
    "print(label_test.head(3))"
   ]
  },
  {
   "cell_type": "code",
   "execution_count": 5,
   "metadata": {
    "collapsed": false
   },
   "outputs": [
    {
     "name": "stdout",
     "output_type": "stream",
     "text": [
      "正解率= 0.9856\n",
      "レポート=\n",
      "              precision    recall  f1-score   support\n",
      "\n",
      "        fat       1.00      0.99      0.99      1852\n",
      "     normal       0.96      0.99      0.98      1521\n",
      "       thin       0.99      0.98      0.98      1627\n",
      "\n",
      "avg / total       0.99      0.99      0.99      5000\n",
      "\n"
     ]
    }
   ],
   "source": [
    "# データを学習 --- (※4)\n",
    "clf = svm.SVC()\n",
    "clf.fit(data_train, label_train)\n",
    "\n",
    "# データを予測 --- (※5)\n",
    "predict = clf.predict(data_test)\n",
    "\n",
    "# 合っているか結果を確認 --- (※6)\n",
    "ac_score = metrics.accuracy_score(label_test, predict)\n",
    "cl_report = metrics.classification_report(label_test, predict)\n",
    "print(\"正解率=\", ac_score)\n",
    "print(\"レポート=\\n\", cl_report)"
   ]
  },
  {
   "cell_type": "code",
   "execution_count": null,
   "metadata": {
    "collapsed": true
   },
   "outputs": [],
   "source": []
  }
 ],
 "metadata": {
  "kernelspec": {
   "display_name": "Python 3",
   "language": "python",
   "name": "python3"
  },
  "language_info": {
   "codemirror_mode": {
    "name": "ipython",
    "version": 3
   },
   "file_extension": ".py",
   "mimetype": "text/x-python",
   "name": "python",
   "nbconvert_exporter": "python",
   "pygments_lexer": "ipython3",
   "version": "3.6.3"
  }
 },
 "nbformat": 4,
 "nbformat_minor": 2
}
