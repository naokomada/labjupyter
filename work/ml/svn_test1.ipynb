{
 "cells": [
  {
   "cell_type": "code",
   "execution_count": 1,
   "metadata": {
    "collapsed": false
   },
   "outputs": [
    {
     "name": "stdout",
     "output_type": "stream",
     "text": [
      "ok, {'normal': 5840, 'thin': 6479, 'fat': 7681}\n"
     ]
    }
   ],
   "source": [
    "import random\n",
    "\n",
    "# BMIを計算して体型を返す\n",
    "def calc_bmi(h, w):\n",
    "    bmi = w / (h/100) ** 2\n",
    "    if bmi < 18.5: return \"thin\"\n",
    "    if bmi < 25.0: return \"normal\"\n",
    "    return \"fat\"\n",
    "\n",
    "# 出力ファイルの準備\n",
    "fp = open(\"bmi.csv\",\"w\",encoding=\"utf-8\")\n",
    "fp.write(\"height,weight,label\\r\\n\")\n",
    "\n",
    "# ランダムなデータを生成\n",
    "cnt = {\"thin\":0, \"normal\":0, \"fat\":0}\n",
    "for i in range(20000):\n",
    "    h = random.randint(120,200)\n",
    "    w = random.randint(35, 80)\n",
    "    label = calc_bmi(h, w)\n",
    "    cnt[label] += 1\n",
    "    fp.write(\"{0},{1},{2}\\r\\n\".format(h, w, label))\n",
    "fp.close()\n",
    "print(\"ok,\", cnt)\n"
   ]
  },
  {
   "cell_type": "code",
   "execution_count": 2,
   "metadata": {
    "collapsed": true
   },
   "outputs": [
    {
     "name": "stderr",
     "output_type": "stream",
     "text": [
      "/Users/komadanaoki/.pyenv/versions/anaconda3-4.0.0/lib/python3.5/site-packages/sklearn/cross_validation.py:44: DeprecationWarning: This module was deprecated in version 0.18 in favor of the model_selection module into which all the refactored classes and functions are moved. Also note that the interface of the new CV iterators are different from that of this module. This module will be removed in 0.20.\n",
      "  \"This module will be removed in 0.20.\", DeprecationWarning)\n"
     ]
    }
   ],
   "source": [
    "from sklearn import cross_validation, svm, metrics\n",
    "import matplotlib.pyplot as plt\n",
    "import pandas as pd\n",
    "\n",
    "# 身長・体重データの読み込み --- (※1)\n",
    "tbl = pd.read_csv(\"bmi.csv\")\n",
    "\n",
    "# カラム(列)をスライスして正規化 --- (※2)\n",
    "label = tbl[\"label\"]\n",
    "w = tbl[\"weight\"] / 100 # 最大100kgと考える\n",
    "h = tbl[\"height\"] / 200 # 最長200cmと考える\n",
    "wh = pd.concat([w, h], axis=1)"
   ]
  },
  {
   "cell_type": "code",
   "execution_count": 3,
   "metadata": {
    "collapsed": false
   },
   "outputs": [
    {
     "name": "stdout",
     "output_type": "stream",
     "text": [
      "tbl\n",
      "   height  weight   label\n",
      "0     177      73  normal\n",
      "1     176      42    thin\n",
      "2     141      73     fat\n",
      "wh\n",
      "   weight  height\n",
      "0    0.73   0.885\n",
      "1    0.42   0.880\n",
      "2    0.73   0.705\n",
      "3    0.63   0.820\n",
      "4    0.58   0.875\n"
     ]
    }
   ],
   "source": [
    "print('tbl')\n",
    "print(tbl.head(3))\n",
    "print('wh')\n",
    "print(wh.head(5))"
   ]
  },
  {
   "cell_type": "code",
   "execution_count": 4,
   "metadata": {
    "collapsed": false
   },
   "outputs": [
    {
     "name": "stdout",
     "output_type": "stream",
     "text": [
      "data_train\n",
      "       weight  height\n",
      "18598    0.69   0.945\n",
      "1370     0.78   0.890\n",
      "12620    0.37   0.715\n",
      "data_test\n",
      "       weight  height\n",
      "3672     0.63   0.930\n",
      "15215    0.37   0.725\n",
      "12495    0.44   0.890\n",
      "label_train\n",
      "18598    normal\n",
      "1370     normal\n",
      "12620      thin\n",
      "Name: label, dtype: object\n",
      "label_test\n",
      "3672     thin\n",
      "15215    thin\n",
      "12495    thin\n",
      "Name: label, dtype: object\n"
     ]
    }
   ],
   "source": [
    "# 学習用とテスト用データに分ける --- (※3)\n",
    "data_train, data_test, label_train, label_test = \\\n",
    "    cross_validation.train_test_split(wh, label)\n",
    "\n",
    "print('data_train')\n",
    "print(data_train.head(3))\n",
    "print('data_test')\n",
    "print(data_test.head(3))\n",
    "print('label_train')\n",
    "print(label_train.head(3))\n",
    "print('label_test')\n",
    "print(label_test.head(3))"
   ]
  },
  {
   "cell_type": "code",
   "execution_count": 5,
   "metadata": {
    "collapsed": false
   },
   "outputs": [
    {
     "name": "stdout",
     "output_type": "stream",
     "text": [
      "正解率= 0.9898\n",
      "レポート=\n",
      "              precision    recall  f1-score   support\n",
      "\n",
      "        fat       1.00      0.99      1.00      1911\n",
      "     normal       0.98      0.99      0.98      1476\n",
      "       thin       0.99      0.99      0.99      1613\n",
      "\n",
      "avg / total       0.99      0.99      0.99      5000\n",
      "\n"
     ]
    }
   ],
   "source": [
    "# データを学習 --- (※4)\n",
    "clf = svm.SVC()\n",
    "clf.fit(data_train, label_train)\n",
    "\n",
    "# データを予測 --- (※5)\n",
    "predict = clf.predict(data_test)\n",
    "\n",
    "# 合っているか結果を確認 --- (※6)\n",
    "ac_score = metrics.accuracy_score(label_test, predict)\n",
    "cl_report = metrics.classification_report(label_test, predict)\n",
    "print(\"正解率=\", ac_score)\n",
    "print(\"レポート=\\n\", cl_report)"
   ]
  },
  {
   "cell_type": "code",
   "execution_count": null,
   "metadata": {
    "collapsed": true
   },
   "outputs": [],
   "source": []
  }
 ],
 "metadata": {
  "kernelspec": {
   "display_name": "Python 3",
   "language": "python",
   "name": "python3"
  },
  "language_info": {
   "codemirror_mode": {
    "name": "ipython",
    "version": 3
   },
   "file_extension": ".py",
   "mimetype": "text/x-python",
   "name": "python",
   "nbconvert_exporter": "python",
   "pygments_lexer": "ipython3",
   "version": "3.5.3"
  }
 },
 "nbformat": 4,
 "nbformat_minor": 2
}
