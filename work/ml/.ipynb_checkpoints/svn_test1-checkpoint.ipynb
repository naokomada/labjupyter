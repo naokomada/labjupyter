{
 "cells": [
  {
   "cell_type": "code",
   "execution_count": 1,
   "metadata": {
    "collapsed": false
   },
   "outputs": [
    {
     "name": "stdout",
     "output_type": "stream",
     "text": [
      "ok, {'thin': 6308, 'normal': 5963, 'fat': 7729}\n"
     ]
    }
   ],
   "source": [
    "import random\n",
    "\n",
    "# BMIを計算して体型を返す\n",
    "def calc_bmi(h, w):\n",
    "    bmi = w / (h/100) ** 2\n",
    "    if bmi < 18.5: return \"thin\"\n",
    "    if bmi < 25.0: return \"normal\"\n",
    "    return \"fat\"\n",
    "\n",
    "# 出力ファイルの準備\n",
    "fp = open(\"bmi.csv\",\"w\",encoding=\"utf-8\")\n",
    "fp.write(\"height,weight,label\\r\\n\")\n",
    "\n",
    "# ランダムなデータを生成\n",
    "cnt = {\"thin\":0, \"normal\":0, \"fat\":0}\n",
    "for i in range(20000):\n",
    "    h = random.randint(120,200)\n",
    "    w = random.randint(35, 80)\n",
    "    label = calc_bmi(h, w)\n",
    "    cnt[label] += 1\n",
    "    fp.write(\"{0},{1},{2}\\r\\n\".format(h, w, label))\n",
    "fp.close()\n",
    "print(\"ok,\", cnt)\n"
   ]
  },
  {
   "cell_type": "code",
   "execution_count": 2,
   "metadata": {
    "collapsed": true
   },
   "outputs": [],
   "source": [
    "from sklearn import cross_validation, svm, metrics\n",
    "import matplotlib.pyplot as plt\n",
    "import pandas as pd\n",
    "\n",
    "# 身長・体重データの読み込み --- (※1)\n",
    "tbl = pd.read_csv(\"bmi.csv\")\n",
    "\n",
    "# カラム(列)をスライスして正規化 --- (※2)\n",
    "label = tbl[\"label\"]\n",
    "w = tbl[\"weight\"] / 100 # 最大100kgと考える\n",
    "h = tbl[\"height\"] / 200 # 最長200cmと考える\n",
    "wh = pd.concat([w, h], axis=1)"
   ]
  },
  {
   "cell_type": "code",
   "execution_count": 3,
   "metadata": {
    "collapsed": false
   },
   "outputs": [
    {
     "name": "stdout",
     "output_type": "stream",
     "text": [
      "tbl\n",
      "   height  weight label\n",
      "0     135      49   fat\n",
      "1     147      80   fat\n",
      "2     125      67   fat\n",
      "wh\n",
      "   weight  height\n",
      "0    0.49   0.675\n",
      "1    0.80   0.735\n",
      "2    0.67   0.625\n",
      "3    0.61   0.900\n",
      "4    0.74   1.000\n"
     ]
    }
   ],
   "source": [
    "print('tbl')\n",
    "print(tbl.head(3))\n",
    "print('wh')\n",
    "print(wh.head(5))"
   ]
  },
  {
   "cell_type": "code",
   "execution_count": 4,
   "metadata": {
    "collapsed": false
   },
   "outputs": [
    {
     "name": "stdout",
     "output_type": "stream",
     "text": [
      "data_train\n",
      "       weight  height\n",
      "8789     0.44   0.815\n",
      "12962    0.61   0.975\n",
      "10491    0.43   0.730\n",
      "data_test\n",
      "       weight  height\n",
      "6205     0.55   0.805\n",
      "13667    0.52   0.645\n",
      "7266     0.44   0.900\n",
      "label_train\n",
      "8789       thin\n",
      "12962      thin\n",
      "10491    normal\n",
      "Name: label, dtype: object\n",
      "label_test\n",
      "6205     normal\n",
      "13667       fat\n",
      "7266       thin\n",
      "Name: label, dtype: object\n"
     ]
    }
   ],
   "source": [
    "# 学習用とテスト用データに分ける --- (※3)\n",
    "data_train, data_test, label_train, label_test = \\\n",
    "    cross_validation.train_test_split(wh, label)\n",
    "\n",
    "print('data_train')\n",
    "print(data_train.head(3))\n",
    "print('data_test')\n",
    "print(data_test.head(3))\n",
    "print('label_train')\n",
    "print(label_train.head(3))\n",
    "print('label_test')\n",
    "print(label_test.head(3))"
   ]
  },
  {
   "cell_type": "code",
   "execution_count": 6,
   "metadata": {
    "collapsed": false
   },
   "outputs": [
    {
     "name": "stdout",
     "output_type": "stream",
     "text": [
      "正解率= 0.987\n",
      "レポート=\n",
      "              precision    recall  f1-score   support\n",
      "\n",
      "        fat       1.00      0.99      0.99      1928\n",
      "     normal       0.97      0.99      0.98      1509\n",
      "       thin       1.00      0.98      0.99      1563\n",
      "\n",
      "avg / total       0.99      0.99      0.99      5000\n",
      "\n"
     ]
    }
   ],
   "source": [
    "# データを学習 --- (※4)\n",
    "clf = svm.SVC()\n",
    "clf.fit(data_train, label_train)\n",
    "\n",
    "# データを予測 --- (※5)\n",
    "predict = clf.predict(data_test)\n",
    "\n",
    "# 合っているか結果を確認 --- (※6)\n",
    "ac_score = metrics.accuracy_score(label_test, predict)\n",
    "cl_report = metrics.classification_report(label_test, predict)\n",
    "print(\"正解率=\", ac_score)\n",
    "print(\"レポート=\\n\", cl_report)"
   ]
  },
  {
   "cell_type": "code",
   "execution_count": null,
   "metadata": {
    "collapsed": true
   },
   "outputs": [],
   "source": []
  }
 ],
 "metadata": {
  "kernelspec": {
   "display_name": "Python 3",
   "language": "python",
   "name": "python3"
  },
  "language_info": {
   "codemirror_mode": {
    "name": "ipython",
    "version": 3
   },
   "file_extension": ".py",
   "mimetype": "text/x-python",
   "name": "python",
   "nbconvert_exporter": "python",
   "pygments_lexer": "ipython3",
   "version": "3.5.1"
  }
 },
 "nbformat": 4,
 "nbformat_minor": 0
}
