{
 "cells": [
  {
   "cell_type": "code",
   "execution_count": 4,
   "metadata": {
    "collapsed": false
   },
   "outputs": [
    {
     "name": "stdout",
     "output_type": "stream",
     "text": [
      "notebook.ipynb\n",
      "predict_result_data.csv\n",
      "titanic.ipynb\n",
      "train.csv\n",
      "\n"
     ]
    },
    {
     "data": {
      "text/html": [
       "<div>\n",
       "<table border=\"1\" class=\"dataframe\">\n",
       "  <thead>\n",
       "    <tr style=\"text-align: right;\">\n",
       "      <th></th>\n",
       "      <th>PassengerId</th>\n",
       "      <th>Survived</th>\n",
       "      <th>Pclass</th>\n",
       "      <th>Name</th>\n",
       "      <th>Sex</th>\n",
       "      <th>Age</th>\n",
       "      <th>SibSp</th>\n",
       "      <th>Parch</th>\n",
       "      <th>Ticket</th>\n",
       "      <th>Fare</th>\n",
       "      <th>Cabin</th>\n",
       "      <th>Embarked</th>\n",
       "    </tr>\n",
       "  </thead>\n",
       "  <tbody>\n",
       "    <tr>\n",
       "      <th>0</th>\n",
       "      <td>1</td>\n",
       "      <td>0</td>\n",
       "      <td>3</td>\n",
       "      <td>Braund, Mr. Owen Harris</td>\n",
       "      <td>male</td>\n",
       "      <td>22.0</td>\n",
       "      <td>1</td>\n",
       "      <td>0</td>\n",
       "      <td>A/5 21171</td>\n",
       "      <td>7.2500</td>\n",
       "      <td>NaN</td>\n",
       "      <td>S</td>\n",
       "    </tr>\n",
       "    <tr>\n",
       "      <th>1</th>\n",
       "      <td>2</td>\n",
       "      <td>1</td>\n",
       "      <td>1</td>\n",
       "      <td>Cumings, Mrs. John Bradley (Florence Briggs Th...</td>\n",
       "      <td>female</td>\n",
       "      <td>38.0</td>\n",
       "      <td>1</td>\n",
       "      <td>0</td>\n",
       "      <td>PC 17599</td>\n",
       "      <td>71.2833</td>\n",
       "      <td>C85</td>\n",
       "      <td>C</td>\n",
       "    </tr>\n",
       "    <tr>\n",
       "      <th>2</th>\n",
       "      <td>3</td>\n",
       "      <td>1</td>\n",
       "      <td>3</td>\n",
       "      <td>Heikkinen, Miss. Laina</td>\n",
       "      <td>female</td>\n",
       "      <td>26.0</td>\n",
       "      <td>0</td>\n",
       "      <td>0</td>\n",
       "      <td>STON/O2. 3101282</td>\n",
       "      <td>7.9250</td>\n",
       "      <td>NaN</td>\n",
       "      <td>S</td>\n",
       "    </tr>\n",
       "    <tr>\n",
       "      <th>3</th>\n",
       "      <td>4</td>\n",
       "      <td>1</td>\n",
       "      <td>1</td>\n",
       "      <td>Futrelle, Mrs. Jacques Heath (Lily May Peel)</td>\n",
       "      <td>female</td>\n",
       "      <td>35.0</td>\n",
       "      <td>1</td>\n",
       "      <td>0</td>\n",
       "      <td>113803</td>\n",
       "      <td>53.1000</td>\n",
       "      <td>C123</td>\n",
       "      <td>S</td>\n",
       "    </tr>\n",
       "    <tr>\n",
       "      <th>4</th>\n",
       "      <td>5</td>\n",
       "      <td>0</td>\n",
       "      <td>3</td>\n",
       "      <td>Allen, Mr. William Henry</td>\n",
       "      <td>male</td>\n",
       "      <td>35.0</td>\n",
       "      <td>0</td>\n",
       "      <td>0</td>\n",
       "      <td>373450</td>\n",
       "      <td>8.0500</td>\n",
       "      <td>NaN</td>\n",
       "      <td>S</td>\n",
       "    </tr>\n",
       "  </tbody>\n",
       "</table>\n",
       "</div>"
      ],
      "text/plain": [
       "   PassengerId  Survived  Pclass  \\\n",
       "0            1         0       3   \n",
       "1            2         1       1   \n",
       "2            3         1       3   \n",
       "3            4         1       1   \n",
       "4            5         0       3   \n",
       "\n",
       "                                                Name     Sex   Age  SibSp  \\\n",
       "0                            Braund, Mr. Owen Harris    male  22.0      1   \n",
       "1  Cumings, Mrs. John Bradley (Florence Briggs Th...  female  38.0      1   \n",
       "2                             Heikkinen, Miss. Laina  female  26.0      0   \n",
       "3       Futrelle, Mrs. Jacques Heath (Lily May Peel)  female  35.0      1   \n",
       "4                           Allen, Mr. William Henry    male  35.0      0   \n",
       "\n",
       "   Parch            Ticket     Fare Cabin Embarked  \n",
       "0      0         A/5 21171   7.2500   NaN        S  \n",
       "1      0          PC 17599  71.2833   C85        C  \n",
       "2      0  STON/O2. 3101282   7.9250   NaN        S  \n",
       "3      0            113803  53.1000  C123        S  \n",
       "4      0            373450   8.0500   NaN        S  "
      ]
     },
     "execution_count": 4,
     "metadata": {},
     "output_type": "execute_result"
    }
   ],
   "source": [
    "# This Python 3 environment comes with many helpful analytics libraries installed\n",
    "# It is defined by the kaggle/python docker image: https://github.com/kaggle/docker-python\n",
    "# For example, here's several helpful packages to load in \n",
    "\n",
    "import numpy as np # linear algebra\n",
    "import pandas as pd # data processing, CSV file I/O (e.g. pd.read_csv)\n",
    "\n",
    "# Input data files are available in the \"../input/\" directory.\n",
    "# For example, running this (by clicking run or pressing Shift+Enter) will list the files in the input directory\n",
    "\n",
    "from subprocess import check_output\n",
    "print(check_output([\"ls\", \".\"]).decode(\"utf8\"))\n",
    "\n",
    "# Any results you write to the current directory are saved as output.\n",
    "\n",
    "df_train = pd.read_csv(\"./train.csv\")\n",
    "df_train.head()"
   ]
  },
  {
   "cell_type": "markdown",
   "metadata": {},
   "source": [
    "訓練データの `train.csv` の中から欠損部分がどのくらいあるか確認する。"
   ]
  },
  {
   "cell_type": "code",
   "execution_count": 5,
   "metadata": {
    "collapsed": false
   },
   "outputs": [
    {
     "name": "stdout",
     "output_type": "stream",
     "text": [
      "PassengerId    891\n",
      "Survived       891\n",
      "Pclass         891\n",
      "Name           891\n",
      "Sex            891\n",
      "Age            714\n",
      "SibSp          891\n",
      "Parch          891\n",
      "Ticket         891\n",
      "Fare           891\n",
      "Cabin          204\n",
      "Embarked       889\n",
      "dtype: int64\n",
      "PassengerId      0\n",
      "Survived         0\n",
      "Pclass           0\n",
      "Name             0\n",
      "Sex              0\n",
      "Age            177\n",
      "SibSp            0\n",
      "Parch            0\n",
      "Ticket           0\n",
      "Fare             0\n",
      "Cabin          687\n",
      "Embarked         2\n",
      "dtype: int64\n"
     ]
    }
   ],
   "source": [
    "print(df_train.count())\n",
    "print(df_train.isnull().sum())"
   ]
  },
  {
   "cell_type": "markdown",
   "metadata": {},
   "source": [
    "Age と Cabin に欠損が多い。（Cabinの情報は大部分がない）"
   ]
  },
  {
   "cell_type": "markdown",
   "metadata": {},
   "source": [
    "Sex(性別)、Embarked(乗船場所)は、ダミー変数化する。（Sexであれば、maleであれば１ そうでなければ0 の値で入れる）\n"
   ]
  },
  {
   "cell_type": "code",
   "execution_count": 6,
   "metadata": {
    "collapsed": false
   },
   "outputs": [
    {
     "data": {
      "text/html": [
       "<div>\n",
       "<table border=\"1\" class=\"dataframe\">\n",
       "  <thead>\n",
       "    <tr style=\"text-align: right;\">\n",
       "      <th></th>\n",
       "      <th>Survived</th>\n",
       "      <th>Pclass</th>\n",
       "      <th>Age</th>\n",
       "      <th>SibSp</th>\n",
       "      <th>Parch</th>\n",
       "      <th>Fare</th>\n",
       "      <th>male</th>\n",
       "      <th>C</th>\n",
       "      <th>Q</th>\n",
       "    </tr>\n",
       "  </thead>\n",
       "  <tbody>\n",
       "    <tr>\n",
       "      <th>Survived</th>\n",
       "      <td>1.000000</td>\n",
       "      <td>-0.037227</td>\n",
       "      <td>-0.244604</td>\n",
       "      <td>0.100339</td>\n",
       "      <td>0.018723</td>\n",
       "      <td>0.134019</td>\n",
       "      <td>-0.535727</td>\n",
       "      <td>0.098712</td>\n",
       "      <td>-0.039232</td>\n",
       "    </tr>\n",
       "    <tr>\n",
       "      <th>Pclass</th>\n",
       "      <td>-0.037227</td>\n",
       "      <td>1.000000</td>\n",
       "      <td>-0.307590</td>\n",
       "      <td>-0.100324</td>\n",
       "      <td>0.049894</td>\n",
       "      <td>-0.315069</td>\n",
       "      <td>-0.041725</td>\n",
       "      <td>-0.228001</td>\n",
       "      <td>-0.038676</td>\n",
       "    </tr>\n",
       "    <tr>\n",
       "      <th>Age</th>\n",
       "      <td>-0.244604</td>\n",
       "      <td>-0.307590</td>\n",
       "      <td>1.000000</td>\n",
       "      <td>-0.161625</td>\n",
       "      <td>-0.274813</td>\n",
       "      <td>-0.091542</td>\n",
       "      <td>0.172307</td>\n",
       "      <td>0.076824</td>\n",
       "      <td>0.017855</td>\n",
       "    </tr>\n",
       "    <tr>\n",
       "      <th>SibSp</th>\n",
       "      <td>0.100339</td>\n",
       "      <td>-0.100324</td>\n",
       "      <td>-0.161625</td>\n",
       "      <td>1.000000</td>\n",
       "      <td>0.258993</td>\n",
       "      <td>0.285492</td>\n",
       "      <td>-0.095344</td>\n",
       "      <td>-0.050628</td>\n",
       "      <td>0.169778</td>\n",
       "    </tr>\n",
       "    <tr>\n",
       "      <th>Parch</th>\n",
       "      <td>0.018723</td>\n",
       "      <td>0.049894</td>\n",
       "      <td>-0.274813</td>\n",
       "      <td>0.258993</td>\n",
       "      <td>1.000000</td>\n",
       "      <td>0.388783</td>\n",
       "      <td>-0.081832</td>\n",
       "      <td>-0.068949</td>\n",
       "      <td>-0.065543</td>\n",
       "    </tr>\n",
       "    <tr>\n",
       "      <th>Fare</th>\n",
       "      <td>0.134019</td>\n",
       "      <td>-0.315069</td>\n",
       "      <td>-0.091542</td>\n",
       "      <td>0.285492</td>\n",
       "      <td>0.388783</td>\n",
       "      <td>1.000000</td>\n",
       "      <td>-0.129871</td>\n",
       "      <td>0.239531</td>\n",
       "      <td>0.015604</td>\n",
       "    </tr>\n",
       "    <tr>\n",
       "      <th>male</th>\n",
       "      <td>-0.535727</td>\n",
       "      <td>-0.041725</td>\n",
       "      <td>0.172307</td>\n",
       "      <td>-0.095344</td>\n",
       "      <td>-0.081832</td>\n",
       "      <td>-0.129871</td>\n",
       "      <td>1.000000</td>\n",
       "      <td>-0.053879</td>\n",
       "      <td>-0.002826</td>\n",
       "    </tr>\n",
       "    <tr>\n",
       "      <th>C</th>\n",
       "      <td>0.098712</td>\n",
       "      <td>-0.228001</td>\n",
       "      <td>0.076824</td>\n",
       "      <td>-0.050628</td>\n",
       "      <td>-0.068949</td>\n",
       "      <td>0.239531</td>\n",
       "      <td>-0.053879</td>\n",
       "      <td>1.000000</td>\n",
       "      <td>-0.076941</td>\n",
       "    </tr>\n",
       "    <tr>\n",
       "      <th>Q</th>\n",
       "      <td>-0.039232</td>\n",
       "      <td>-0.038676</td>\n",
       "      <td>0.017855</td>\n",
       "      <td>0.169778</td>\n",
       "      <td>-0.065543</td>\n",
       "      <td>0.015604</td>\n",
       "      <td>-0.002826</td>\n",
       "      <td>-0.076941</td>\n",
       "      <td>1.000000</td>\n",
       "    </tr>\n",
       "  </tbody>\n",
       "</table>\n",
       "</div>"
      ],
      "text/plain": [
       "          Survived    Pclass       Age     SibSp     Parch      Fare  \\\n",
       "Survived  1.000000 -0.037227 -0.244604  0.100339  0.018723  0.134019   \n",
       "Pclass   -0.037227  1.000000 -0.307590 -0.100324  0.049894 -0.315069   \n",
       "Age      -0.244604 -0.307590  1.000000 -0.161625 -0.274813 -0.091542   \n",
       "SibSp     0.100339 -0.100324 -0.161625  1.000000  0.258993  0.285492   \n",
       "Parch     0.018723  0.049894 -0.274813  0.258993  1.000000  0.388783   \n",
       "Fare      0.134019 -0.315069 -0.091542  0.285492  0.388783  1.000000   \n",
       "male     -0.535727 -0.041725  0.172307 -0.095344 -0.081832 -0.129871   \n",
       "C         0.098712 -0.228001  0.076824 -0.050628 -0.068949  0.239531   \n",
       "Q        -0.039232 -0.038676  0.017855  0.169778 -0.065543  0.015604   \n",
       "\n",
       "              male         C         Q  \n",
       "Survived -0.535727  0.098712 -0.039232  \n",
       "Pclass   -0.041725 -0.228001 -0.038676  \n",
       "Age       0.172307  0.076824  0.017855  \n",
       "SibSp    -0.095344 -0.050628  0.169778  \n",
       "Parch    -0.081832 -0.068949 -0.065543  \n",
       "Fare     -0.129871  0.239531  0.015604  \n",
       "male      1.000000 -0.053879 -0.002826  \n",
       "C        -0.053879  1.000000 -0.076941  \n",
       "Q        -0.002826 -0.076941  1.000000  "
      ]
     },
     "execution_count": 6,
     "metadata": {},
     "output_type": "execute_result"
    }
   ],
   "source": [
    "sex_dum = pd.get_dummies(df_train['Sex'])\n",
    "df_train_proc = pd.concat((df_train,sex_dum),axis=1)\n",
    "df_train_proc = df_train_proc.drop('Sex',axis=1)\n",
    "df_train_proc = df_train_proc.drop('female',axis=1)\n",
    "\n",
    "emb_dum = pd.get_dummies(df_train['Embarked'])\n",
    "df_train_proc = pd.concat((df_train_proc,emb_dum),axis=1)\n",
    "df_train_proc = df_train_proc.drop('Embarked',axis=1)\n",
    "df_train_proc = df_train_proc.drop('S',axis=1)\n",
    "\n",
    "df_train_proc_dn = df_train_proc.dropna()\n",
    "df_train_proc_dn = df_train_proc_dn.drop('PassengerId',axis=1)\n",
    "df_train_proc_dn = df_train_proc_dn.drop('Name',axis=1)\n",
    "df_train_proc_dn = df_train_proc_dn.drop('Ticket',axis=1)\n",
    "df_train_proc_dn = df_train_proc_dn.drop('Cabin',axis=1)\n",
    "\n",
    "df_train_proc_dn.corr()"
   ]
  },
  {
   "cell_type": "markdown",
   "metadata": {},
   "source": [
    "相関係数を出す。\n",
    "Survived については、maleと負の相関がある。Ageとも負の相関がありそう。"
   ]
  },
  {
   "cell_type": "markdown",
   "metadata": {},
   "source": [
    "male=1 （男性）に比べて、mail=0（女性）のほうが赤色（生存）のケースが多い。\n",
    "男性でも若いと生き残りやすいかもしれない。（18歳以下ぐらい？）"
   ]
  },
  {
   "cell_type": "code",
   "execution_count": 8,
   "metadata": {
    "collapsed": false
   },
   "outputs": [
    {
     "data": {
      "text/plain": [
       "([array([  80.,   97.,  372.]), array([ 216.,  184.,  491.])],\n",
       " array([ 1.        ,  1.66666667,  2.33333333,  3.        ]),\n",
       " <a list of 2 Lists of Patches objects>)"
      ]
     },
     "execution_count": 8,
     "metadata": {},
     "output_type": "execute_result"
    }
   ],
   "source": [
    "import pandas as pd\n",
    "import matplotlib.pyplot as plt\n",
    "\n",
    "df= pd.read_csv(\"./train.csv\").replace(\"male\",0).replace(\"female\",1)\n",
    "df[\"Age\"].fillna(df.Age.median(), inplace=True)\n",
    "\n",
    "split_data = []\n",
    "for survived in [0,1]:\n",
    "    split_data.append(df[df.Survived==survived])\n",
    "\n",
    "temp = [i[\"Pclass\"].dropna() for i in split_data]\n",
    "plt.hist(temp, histtype=\"barstacked\", bins=3)"
   ]
  },
  {
   "cell_type": "code",
   "execution_count": 9,
   "metadata": {
    "collapsed": false
   },
   "outputs": [
    {
     "data": {
      "text/plain": [
       "([array([  13.,   13.,    8.,   63.,   80.,  191.,   47.,   39.,   30.,\n",
       "           23.,   14.,   11.,   10.,    3.,    4.,    0.]),\n",
       "  array([  44.,   20.,   19.,   96.,  122.,  285.,   88.,   67.,   47.,\n",
       "           39.,   24.,   18.,   14.,    3.,    4.,    1.])],\n",
       " array([  0.42   ,   5.39375,  10.3675 ,  15.34125,  20.315  ,  25.28875,\n",
       "         30.2625 ,  35.23625,  40.21   ,  45.18375,  50.1575 ,  55.13125,\n",
       "         60.105  ,  65.07875,  70.0525 ,  75.02625,  80.     ]),\n",
       " <a list of 2 Lists of Patches objects>)"
      ]
     },
     "execution_count": 9,
     "metadata": {},
     "output_type": "execute_result"
    }
   ],
   "source": [
    "temp = [i[\"Age\"].dropna() for i in split_data]\n",
    "plt.hist(temp, histtype=\"barstacked\", bins=16)"
   ]
  },
  {
   "cell_type": "code",
   "execution_count": 10,
   "metadata": {
    "collapsed": true
   },
   "outputs": [],
   "source": [
    "df[\"FamilySize\"] = df[\"SibSp\"] + df[\"Parch\"] + 1\n",
    "df2 = df.drop([\"Name\", \"SibSp\", \"Parch\", \"Ticket\", \"Fare\", \"Cabin\", \"Embarked\"], axis=1)"
   ]
  },
  {
   "cell_type": "code",
   "execution_count": 16,
   "metadata": {
    "collapsed": false
   },
   "outputs": [
    {
     "data": {
      "text/plain": [
       "PassengerId      int64\n",
       "Survived         int64\n",
       "Pclass           int64\n",
       "Sex              int64\n",
       "Age            float64\n",
       "FamilySize       int64\n",
       "dtype: object"
      ]
     },
     "execution_count": 16,
     "metadata": {},
     "output_type": "execute_result"
    }
   ],
   "source": [
    "df2.dtypes"
   ]
  },
  {
   "cell_type": "code",
   "execution_count": 12,
   "metadata": {
    "collapsed": false,
    "scrolled": true
   },
   "outputs": [
    {
     "name": "stdout",
     "output_type": "stream",
     "text": [
      "418 418\n",
      "[(892, 0), (893, 0), (894, 1), (895, 0), (896, 1), (897, 0), (898, 1), (899, 0), (900, 0), (901, 0), (902, 1), (903, 0), (904, 1), (905, 0), (906, 1), (907, 1), (908, 0), (909, 0), (910, 1), (911, 0), (912, 0), (913, 0), (914, 1), (915, 0), (916, 1), (917, 0), (918, 1), (919, 0), (920, 0), (921, 0), (922, 0), (923, 0), (924, 1), (925, 1), (926, 0), (927, 0), (928, 1), (929, 0), (930, 0), (931, 0), (932, 0), (933, 0), (934, 0), (935, 1), (936, 1), (937, 0), (938, 0), (939, 0), (940, 1), (941, 1), (942, 0), (943, 0), (944, 1), (945, 1), (946, 0), (947, 0), (948, 0), (949, 0), (950, 0), (951, 1), (952, 0), (953, 0), (954, 0), (955, 0), (956, 0), (957, 1), (958, 0), (959, 0), (960, 0), (961, 1), (962, 0), (963, 0), (964, 1), (965, 0), (966, 1), (967, 1), (968, 0), (969, 1), (970, 0), (971, 0), (972, 1), (973, 0), (974, 1), (975, 0), (976, 0), (977, 0), (978, 0), (979, 0), (980, 0), (981, 0), (982, 1), (983, 0), (984, 1), (985, 0), (986, 0), (987, 0), (988, 1), (989, 0), (990, 0), (991, 0), (992, 1), (993, 0), (994, 0), (995, 0), (996, 0), (997, 0), (998, 0), (999, 0), (1000, 0), (1001, 0), (1002, 0), (1003, 1), (1004, 1), (1005, 0), (1006, 1), (1007, 0), (1008, 0), (1009, 1), (1010, 0), (1011, 1), (1012, 1), (1013, 0), (1014, 1), (1015, 0), (1016, 0), (1017, 0), (1018, 0), (1019, 1), (1020, 0), (1021, 0), (1022, 1), (1023, 1), (1024, 1), (1025, 0), (1026, 0), (1027, 0), (1028, 0), (1029, 0), (1030, 0), (1031, 0), (1032, 0), (1033, 1), (1034, 0), (1035, 0), (1036, 1), (1037, 0), (1038, 0), (1039, 0), (1040, 0), (1041, 0), (1042, 1), (1043, 0), (1044, 0), (1045, 1), (1046, 0), (1047, 0), (1048, 1), (1049, 0), (1050, 1), (1051, 0), (1052, 1), (1053, 1), (1054, 1), (1055, 0), (1056, 0), (1057, 1), (1058, 1), (1059, 0), (1060, 1), (1061, 1), (1062, 0), (1063, 0), (1064, 0), (1065, 0), (1066, 0), (1067, 1), (1068, 1), (1069, 0), (1070, 1), (1071, 1), (1072, 0), (1073, 1), (1074, 1), (1075, 0), (1076, 1), (1077, 0), (1078, 1), (1079, 0), (1080, 0), (1081, 0), (1082, 0), (1083, 0), (1084, 1), (1085, 0), (1086, 0), (1087, 0), (1088, 0), (1089, 0), (1090, 0), (1091, 1), (1092, 1), (1093, 0), (1094, 0), (1095, 1), (1096, 0), (1097, 0), (1098, 1), (1099, 0), (1100, 1), (1101, 0), (1102, 1), (1103, 0), (1104, 0), (1105, 1), (1106, 0), (1107, 0), (1108, 1), (1109, 0), (1110, 0), (1111, 0), (1112, 1), (1113, 0), (1114, 1), (1115, 0), (1116, 1), (1117, 1), (1118, 0), (1119, 1), (1120, 0), (1121, 0), (1122, 0), (1123, 1), (1124, 0), (1125, 0), (1126, 0), (1127, 0), (1128, 0), (1129, 1), (1130, 1), (1131, 1), (1132, 1), (1133, 1), (1134, 0), (1135, 0), (1136, 0), (1137, 0), (1138, 1), (1139, 0), (1140, 1), (1141, 1), (1142, 1), (1143, 1), (1144, 1), (1145, 0), (1146, 0), (1147, 1), (1148, 0), (1149, 0), (1150, 1), (1151, 0), (1152, 0), (1153, 0), (1154, 1), (1155, 1), (1156, 0), (1157, 0), (1158, 0), (1159, 0), (1160, 1), (1161, 0), (1162, 0), (1163, 0), (1164, 1), (1165, 1), (1166, 0), (1167, 1), (1168, 0), (1169, 0), (1170, 0), (1171, 0), (1172, 0), (1173, 1), (1174, 1), (1175, 1), (1176, 1), (1177, 0), (1178, 0), (1179, 0), (1180, 0), (1181, 0), (1182, 0), (1183, 0), (1184, 0), (1185, 1), (1186, 0), (1187, 0), (1188, 1), (1189, 0), (1190, 0), (1191, 0), (1192, 1), (1193, 0), (1194, 0), (1195, 0), (1196, 1), (1197, 1), (1198, 0), (1199, 1), (1200, 0), (1201, 0), (1202, 0), (1203, 0), (1204, 1), (1205, 0), (1206, 1), (1207, 0), (1208, 0), (1209, 0), (1210, 0), (1211, 0), (1212, 0), (1213, 0), (1214, 0), (1215, 1), (1216, 1), (1217, 0), (1218, 1), (1219, 0), (1220, 0), (1221, 0), (1222, 1), (1223, 0), (1224, 0), (1225, 0), (1226, 0), (1227, 0), (1228, 1), (1229, 0), (1230, 0), (1231, 0), (1232, 0), (1233, 0), (1234, 0), (1235, 1), (1236, 0), (1237, 1), (1238, 0), (1239, 0), (1240, 0), (1241, 1), (1242, 1), (1243, 0), (1244, 0), (1245, 0), (1246, 1), (1247, 1), (1248, 1), (1249, 0), (1250, 0), (1251, 1), (1252, 0), (1253, 1), (1254, 1), (1255, 1), (1256, 1), (1257, 1), (1258, 0), (1259, 1), (1260, 1), (1261, 0), (1262, 0), (1263, 1), (1264, 1), (1265, 0), (1266, 1), (1267, 1), (1268, 1), (1269, 0), (1270, 0), (1271, 1), (1272, 0), (1273, 0), (1274, 1), (1275, 1), (1276, 0), (1277, 1), (1278, 0), (1279, 0), (1280, 0), (1281, 1), (1282, 1), (1283, 0), (1284, 0), (1285, 0), (1286, 0), (1287, 1), (1288, 0), (1289, 1), (1290, 0), (1291, 0), (1292, 1), (1293, 0), (1294, 1), (1295, 0), (1296, 1), (1297, 0), (1298, 0), (1299, 1), (1300, 1), (1301, 0), (1302, 1), (1303, 1), (1304, 1), (1305, 0), (1306, 1), (1307, 0), (1308, 1), (1309, 1)]\n"
     ]
    }
   ],
   "source": [
    "from sklearn.ensemble import RandomForestClassifier\n",
    "\n",
    "train_data = df2.values\n",
    "xs = train_data[:, 2:] # Pclass以降の変数\n",
    "y  = train_data[:, 1]  # 正解データ\n",
    "\n",
    "forest = RandomForestClassifier(n_estimators = 100)\n",
    "\n",
    "# 学習\n",
    "forest = forest.fit(xs, y)\n",
    "\n",
    "test_df= pd.read_csv(\"./test.csv\").replace(\"male\",0).replace(\"female\",1)\n",
    "# 欠損値の補完\n",
    "test_df[\"Age\"].fillna(df.Age.median(), inplace=True)\n",
    "test_df[\"FamilySize\"] = df[\"SibSp\"] + df[\"Parch\"] + 1\n",
    "test_df2 = test_df.drop([\"Name\", \"SibSp\", \"Parch\", \"Ticket\", \"Fare\", \"Cabin\", \"Embarked\"], axis=1)\n",
    "\n",
    "test_data = test_df2.values\n",
    "xs_test = test_data[:, 1:]\n",
    "output = forest.predict(xs_test)\n",
    "\n",
    "print(len(test_data[:,0]), len(output))\n",
    "zip_data = zip(test_data[:,0].astype(int), output.astype(int))\n",
    "predict_data = list(zip_data)\n",
    "\n",
    "\n",
    "print(predict_data)\n",
    "\n",
    "\n",
    "import csv\n",
    "with open(\"predict_result_data.csv\", \"w\") as f:\n",
    "    writer = csv.writer(f, lineterminator='\\n')\n",
    "    writer.writerow([\"PassengerId\", \"Survived\"])\n",
    "    for pid, survived in zip(test_data[:,0].astype(int), output.astype(int)):\n",
    "        writer.writerow([pid, survived])\n"
   ]
  },
  {
   "cell_type": "code",
   "execution_count": null,
   "metadata": {
    "collapsed": true
   },
   "outputs": [],
   "source": []
  },
  {
   "cell_type": "code",
   "execution_count": null,
   "metadata": {
    "collapsed": true
   },
   "outputs": [],
   "source": []
  }
 ],
 "metadata": {
  "kernelspec": {
   "display_name": "Python 3",
   "language": "python",
   "name": "python3"
  },
  "language_info": {
   "codemirror_mode": {
    "name": "ipython",
    "version": 3
   },
   "file_extension": ".py",
   "mimetype": "text/x-python",
   "name": "python",
   "nbconvert_exporter": "python",
   "pygments_lexer": "ipython3",
   "version": "3.5.1"
  }
 },
 "nbformat": 4,
 "nbformat_minor": 0
}
