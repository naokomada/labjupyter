{
 "cells": [
  {
   "cell_type": "code",
   "execution_count": 3,
   "metadata": {
    "collapsed": true
   },
   "outputs": [],
   "source": [
    "import sympy as sym\n",
    "sym.init_printing()\n",
    "Pi = sym.S.Pi # 円周率\n",
    "E = sym.S.Exp1 # 自然対数の底\n",
    "I = sym.S.ImaginaryUnit # 虚数単位\n",
    "\n",
    "# 使用する変数の定義(小文字1文字は全てシンボルとする)\n",
    "(a,b,c,d,e,f,g,h,i,j,k,l,m,n,o,p,q,r,s,t,u,v,w,x,y,z) = sym.symbols('a b c d e f g h i j k l m n o p q r s t u v w x y z')\n"
   ]
  },
  {
   "cell_type": "code",
   "execution_count": 4,
   "metadata": {
    "collapsed": true
   },
   "outputs": [],
   "source": [
    "F1 = x * x + 2 * x + 1 # 普通にシンボルを演算するだけ\n",
    "F2 = x ** 5 + x + 1 # 高次式\n",
    "F3 = (x + 2) * (x - 1) / ((x - 2) * (x - 2)) # 有理関数\n",
    "F4 = sym.cos(Pi * x) # 三角関数\n",
    "F5 = sym.exp(x) / sym.Pow(x, 10) # 指数関数とべき乗\n",
    "F6 = sym.log(x * x + 1) # 対数関数\n",
    "F7 = (x + y) ** 3 # 2変数関数\n",
    "F8 = (x + y + z / 2) ** 4 # 多変数関数sym.latex((F1*F2*F3+F4)/(F5*F6/F7+F8))"
   ]
  },
  {
   "cell_type": "code",
   "execution_count": 27,
   "metadata": {},
   "outputs": [
    {
     "data": {
      "image/png": "[encoded data removed]",
      "text/latex": [
       "$$\\left(x + 1\\right)^{2}$$"
      ],
      "text/plain": [
       "       2\n",
       "(x + 1) "
      ]
     },
     "execution_count": 27,
     "metadata": {},
     "output_type": "execute_result"
    }
   ],
   "source": [
    "sym.factor(x **2 +2*x+1)"
   ]
  },
  {
   "cell_type": "code",
   "execution_count": 34,
   "metadata": {},
   "outputs": [
    {
     "data": {
      "image/png": "[encoded data removed]",
      "text/latex": [
       "$$x^{4} + 4 x^{3} + 6 x^{2} + 4 x + 1$$"
      ],
      "text/plain": [
       " 4      3      2          \n",
       "x  + 4⋅x  + 6⋅x  + 4⋅x + 1"
      ]
     },
     "execution_count": 34,
     "metadata": {},
     "output_type": "execute_result"
    }
   ],
   "source": [
    "sym.expand((x+1)**4)"
   ]
  },
  {
   "cell_type": "code",
   "execution_count": 38,
   "metadata": {},
   "outputs": [
    {
     "data": {
      "image/png": "[encoded data removed]",
      "text/latex": [
       "$$42$$"
      ],
      "text/plain": [
       "42"
      ]
     },
     "execution_count": 38,
     "metadata": {},
     "output_type": "execute_result"
    }
   ],
   "source": [
    "(x**2+2*x+7).subs([(x, 5)])"
   ]
  },
  {
   "cell_type": "code",
   "execution_count": 47,
   "metadata": {},
   "outputs": [
    {
     "data": {
      "image/png": "[encoded data removed]",
      "text/latex": [
       "$$\\log{\\left (x^{2} + 1 \\right )}$$"
      ],
      "text/plain": [
       "   ⎛ 2    ⎞\n",
       "log⎝x  + 1⎠"
      ]
     },
     "execution_count": 47,
     "metadata": {},
     "output_type": "execute_result"
    }
   ],
   "source": [
    "F6"
   ]
  },
  {
   "cell_type": "code",
   "execution_count": 5,
   "metadata": {},
   "outputs": [
    {
     "data": {
      "text/plain": [
       "'\\\\log{\\\\left (x^{2} + 1 \\\\right )}'"
      ]
     },
     "execution_count": 5,
     "metadata": {},
     "output_type": "execute_result"
    }
   ],
   "source": [
    "sym.latex(F6)"
   ]
  },
  {
   "cell_type": "markdown",
   "metadata": {},
   "source": [
    "$$\\\\log{ (x^{2} + 1 )} =$$"
   ]
  }
 ],
 "metadata": {
  "kernelspec": {
   "display_name": "Python 3",
   "language": "python",
   "name": "python3"
  },
  "language_info": {
   "codemirror_mode": {
    "name": "ipython",
    "version": 3
   },
   "file_extension": ".py",
   "mimetype": "text/x-python",
   "name": "python",
   "nbconvert_exporter": "python",
   "pygments_lexer": "ipython3",
   "version": "3.5.3"
  }
 },
 "nbformat": 4,
 "nbformat_minor": 2
}
